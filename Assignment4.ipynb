{
 "cells": [
  {
   "cell_type": "code",
   "execution_count": null,
   "id": "afd23ad7",
   "metadata": {},
   "outputs": [],
   "source": [
    "'''\n",
    "1. What exactly is []?\n",
    "Ans. [] is an empty list which works like an array. Elements can be added, removed, and changed.\n",
    "e.g: \n",
    "l = [], its like an empty house where we can set any type of furniture and we can change or remove as in our choice.\n",
    "\n",
    "2. In a list of values stored in a variable called spam, how would you assign the value 'hello' as the third value? \n",
    "(Assume [2, 4, 6, 8, 10] are in spam.)\n",
    "\n",
    "Ans.: spam[2] = \"hello\"; since first index is always 0 so third value will be 2.\n",
    "\n",
    "Let's pretend the spam includes the list ['a', 'b', 'c', 'd'] for the next three queries.\n",
    "3. What is the value of spam[int(int('3' * 2) / 11)]?\n",
    "Ans. \n",
    "'''"
   ]
  },
  {
   "cell_type": "code",
   "execution_count": 2,
   "id": "68878971",
   "metadata": {},
   "outputs": [
    {
     "data": {
      "text/plain": [
       "'d'"
      ]
     },
     "execution_count": 2,
     "metadata": {},
     "output_type": "execute_result"
    }
   ],
   "source": [
    "spam = ['a', 'b', 'c', 'd']\n",
    "spam[int(int('3' * 2) / 11)]\n",
    "#'3' * 2 is the string '33', which is passed to int() before being divided by 11. This eventually evaluates to 3.\n"
   ]
  },
  {
   "cell_type": "code",
   "execution_count": 3,
   "id": "3a471302",
   "metadata": {},
   "outputs": [
    {
     "data": {
      "text/plain": [
       "'d'"
      ]
     },
     "execution_count": 3,
     "metadata": {},
     "output_type": "execute_result"
    }
   ],
   "source": [
    "'''4. What is the value of spam[-1]?\n",
    "Ans.\n",
    "'''\n",
    "spam[-1]\n",
    "#Negative indexes count from the end."
   ]
  },
  {
   "cell_type": "code",
   "execution_count": 5,
   "id": "a22acb7f",
   "metadata": {},
   "outputs": [
    {
     "data": {
      "text/plain": [
       "['a', 'b']"
      ]
     },
     "execution_count": 5,
     "metadata": {},
     "output_type": "execute_result"
    }
   ],
   "source": [
    "'''5. What is the value of spam[:2]?\n",
    "Ans.\n",
    "'''\n",
    "spam = ['a', 'b', 'c', 'd']\n",
    "spam[:2]"
   ]
  },
  {
   "cell_type": "code",
   "execution_count": 8,
   "id": "068dbe65",
   "metadata": {},
   "outputs": [
    {
     "data": {
      "text/plain": [
       "['a', 'b']"
      ]
     },
     "execution_count": 8,
     "metadata": {},
     "output_type": "execute_result"
    }
   ],
   "source": [
    "spam[0:2] #it means data will be diplayed from the list 0 to 1, 0 is the start position and 2 is number of data from the list."
   ]
  },
  {
   "cell_type": "code",
   "execution_count": null,
   "id": "71178d43",
   "metadata": {},
   "outputs": [],
   "source": [
    "'''Let's pretend bacon has the list [3.14, 'cat', 11, 'cat', True] for the next three questions.\n",
    "6. What is the value of bacon.index('cat')?\n",
    "Ans.'''"
   ]
  },
  {
   "cell_type": "code",
   "execution_count": 12,
   "id": "316202e1",
   "metadata": {},
   "outputs": [
    {
     "data": {
      "text/plain": [
       "1"
      ]
     },
     "execution_count": 12,
     "metadata": {},
     "output_type": "execute_result"
    }
   ],
   "source": [
    "bacon = [3.14 , 'cat', 11 , 'cat', True]\n",
    "bacon.index('cat') #for repeatative data or same data list will take the very first index as a output."
   ]
  },
  {
   "cell_type": "code",
   "execution_count": 19,
   "id": "fea1c242",
   "metadata": {},
   "outputs": [
    {
     "data": {
      "text/plain": [
       "[3.14, 'cat', 11, 'cat', True, 99]"
      ]
     },
     "execution_count": 19,
     "metadata": {},
     "output_type": "execute_result"
    }
   ],
   "source": [
    "\"\"\"7. How does bacon.append(99) change the look of the list value in bacon?\n",
    "Ans.\"\"\"\n",
    "bacon.append(99)\n",
    "bacon # append method will add the data what we enter or give."
   ]
  },
  {
   "cell_type": "code",
   "execution_count": 21,
   "id": "6ee9eb46",
   "metadata": {},
   "outputs": [
    {
     "data": {
      "text/plain": [
       "[3.14, 11, 'cat', True, 99]"
      ]
     },
     "execution_count": 21,
     "metadata": {},
     "output_type": "execute_result"
    }
   ],
   "source": [
    "\"\"\"8. How does bacon.remove('cat') change the look of the list in bacon?\n",
    "Ans.\"\"\"\n",
    "bacon.remove('cat')\n",
    "bacon #remove method will remove the data what we enter or give."
   ]
  },
  {
   "cell_type": "code",
   "execution_count": 22,
   "id": "0824b59e",
   "metadata": {},
   "outputs": [],
   "source": [
    "\"\"\"9. What are the list concatenation and list replication operators?\n",
    "Ans. The operator for list concatenation is +, while the operator for replication is *. (This is the same as for strings.)\"\"\"\n",
    "a = [1,2,'minus']\n",
    "b = [4,'plus',5]\n",
    "c = a + b # list concatenation"
   ]
  },
  {
   "cell_type": "code",
   "execution_count": 23,
   "id": "dce90a49",
   "metadata": {},
   "outputs": [
    {
     "data": {
      "text/plain": [
       "[1, 2, 'minus', 4, 'plus', 5]"
      ]
     },
     "execution_count": 23,
     "metadata": {},
     "output_type": "execute_result"
    }
   ],
   "source": [
    "c"
   ]
  },
  {
   "cell_type": "code",
   "execution_count": 24,
   "id": "20413c30",
   "metadata": {},
   "outputs": [],
   "source": [
    "d = a*3 #list replication"
   ]
  },
  {
   "cell_type": "code",
   "execution_count": 25,
   "id": "ea219241",
   "metadata": {},
   "outputs": [
    {
     "data": {
      "text/plain": [
       "[1, 2, 'minus', 1, 2, 'minus', 1, 2, 'minus']"
      ]
     },
     "execution_count": 25,
     "metadata": {},
     "output_type": "execute_result"
    }
   ],
   "source": [
    "d"
   ]
  },
  {
   "cell_type": "code",
   "execution_count": 26,
   "id": "032dc956",
   "metadata": {},
   "outputs": [],
   "source": [
    "\"\"\"10. What is difference between the list methods append() and insert()?\n",
    "Ans.\n",
    "While append() will add values only to the end of a list, insert() can add them anywhere in the list.\"\"\"\n",
    "bacon = [3,5,'ram',7]\n",
    "bacon.append('ramesh')"
   ]
  },
  {
   "cell_type": "code",
   "execution_count": 27,
   "id": "d7a144f8",
   "metadata": {},
   "outputs": [
    {
     "data": {
      "text/plain": [
       "[3, 5, 'ram', 7, 'ramesh']"
      ]
     },
     "execution_count": 27,
     "metadata": {},
     "output_type": "execute_result"
    }
   ],
   "source": [
    "bacon"
   ]
  },
  {
   "cell_type": "code",
   "execution_count": 28,
   "id": "aeaa031f",
   "metadata": {},
   "outputs": [
    {
     "data": {
      "text/plain": [
       "[3, 5, 'ram', 'sam', 7, 'ramesh']"
      ]
     },
     "execution_count": 28,
     "metadata": {},
     "output_type": "execute_result"
    }
   ],
   "source": [
    "bacon.insert(3, 'sam')\n",
    "bacon"
   ]
  },
  {
   "cell_type": "code",
   "execution_count": 29,
   "id": "5bcd73e6",
   "metadata": {},
   "outputs": [
    {
     "data": {
      "text/plain": [
       "'abc'"
      ]
     },
     "execution_count": 29,
     "metadata": {},
     "output_type": "execute_result"
    }
   ],
   "source": [
    "\"\"\"11. What are the two methods for removing items from a list?\n",
    "Ans.\n",
    "There are many methods in python to remove data from a list.\n",
    "remove() \n",
    "pop()\n",
    "clear()\n",
    "del keyword.\n",
    "lets disscuss any two.\n",
    "\"\"\"\n",
    "list = ['remove', 3, 555,'abc']\n",
    "list.pop(3) #here 3 is index."
   ]
  },
  {
   "cell_type": "code",
   "execution_count": 31,
   "id": "f49dcfee",
   "metadata": {},
   "outputs": [
    {
     "data": {
      "text/plain": [
       "['remove', 3, 555]"
      ]
     },
     "execution_count": 31,
     "metadata": {},
     "output_type": "execute_result"
    }
   ],
   "source": [
    "list"
   ]
  },
  {
   "cell_type": "code",
   "execution_count": 35,
   "id": "5a292c23",
   "metadata": {},
   "outputs": [],
   "source": [
    "del list[1]"
   ]
  },
  {
   "cell_type": "code",
   "execution_count": 36,
   "id": "3c68f5d2",
   "metadata": {},
   "outputs": [
    {
     "data": {
      "text/plain": [
       "['remove', 555]"
      ]
     },
     "execution_count": 36,
     "metadata": {},
     "output_type": "execute_result"
    }
   ],
   "source": [
    "list"
   ]
  },
  {
   "cell_type": "code",
   "execution_count": null,
   "id": "11545da6",
   "metadata": {},
   "outputs": [],
   "source": [
    "\"\"\"\n",
    "12. Describe how list values and string values are identical.\n",
    "Ans. The similarity between Lists and Strings in Python is that both are sequences. The differences between them are that \n",
    "firstly, Lists are mutable but Strings are immutable. Secondly, elements of a list can be of different types whereas a \n",
    "String only contains characters that are all of String type.\n",
    "\n",
    "13. What's the difference between tuples and lists?\n",
    "Ans. The key difference between the tuples and lists is that while the tuples are immutable objects the lists are mutable. \n",
    "This means that tuples cannot be changed while the lists can be modified.\n",
    "Python needs to allocate an extra memory block in case there is a need to extend the size of the list hence tuples are more \n",
    "memory efficient. \n",
    "\n",
    "14. How do you type a tuple value that only contains the integer 42?\n",
    "Ans. tuple=(42,) (The trailing comma is mandatory.)\n",
    "\n",
    "15. How do you get a list value's tuple form? How do you get a tuple value's list form?\n",
    "\"\"\"\n"
   ]
  },
  {
   "cell_type": "code",
   "execution_count": null,
   "id": "9c149932",
   "metadata": {},
   "outputs": [],
   "source": []
  }
 ],
 "metadata": {
  "kernelspec": {
   "display_name": "Python 3 (ipykernel)",
   "language": "python",
   "name": "python3"
  },
  "language_info": {
   "codemirror_mode": {
    "name": "ipython",
    "version": 3
   },
   "file_extension": ".py",
   "mimetype": "text/x-python",
   "name": "python",
   "nbconvert_exporter": "python",
   "pygments_lexer": "ipython3",
   "version": "3.9.7"
  }
 },
 "nbformat": 4,
 "nbformat_minor": 5
}
