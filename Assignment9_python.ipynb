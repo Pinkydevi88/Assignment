{
 "cells": [
  {
   "cell_type": "markdown",
   "id": "d4094c9a",
   "metadata": {},
   "source": [
    "1. To what does a relative path refer?"
   ]
  },
  {
   "cell_type": "markdown",
   "id": "555ee547",
   "metadata": {},
   "source": [
    "<span style='color:green'>Ans.A relative file path is interpreted from the perspective your current working directory. If you use a relative file path from the wrong directory, then the path will refer to a different file than you intend, or it will refer to no file at all.</span>"
   ]
  },
  {
   "cell_type": "markdown",
   "id": "dcd7532f",
   "metadata": {},
   "source": [
    "2. What does an absolute path start with your operating system?\n"
   ]
  },
  {
   "cell_type": "markdown",
   "id": "a859087b",
   "metadata": {},
   "source": [
    "<span style='color:green'>Ans.An absolute path refers to the complete details needed to locate a file or folder, starting from the root element and ending with the other subdirectories. Absolute paths are used in websites and operating systems for locating files and folders. An absolute path is also known as an absolute pathname or full path.</span>"
   ]
  },
  {
   "cell_type": "markdown",
   "id": "088229de",
   "metadata": {},
   "source": [
    "3. What do the functions os.getcwd() and os.chdir() do?\n"
   ]
  },
  {
   "cell_type": "markdown",
   "id": "c3a37cc2",
   "metadata": {},
   "source": [
    "<span style='color:green'>Ans.getcwd() : CWD stands for Current Working Directory. This function allows you to see what your current working directory is. chdir(\"path-to-dir\") : Short for CHange DIRectory, this function allows you to set the current working directory to a path of your choice.</span>"
   ]
  },
  {
   "cell_type": "markdown",
   "id": "67f22c8d",
   "metadata": {},
   "source": [
    "4. What are the . and .. folders?\n"
   ]
  },
  {
   "cell_type": "markdown",
   "id": "78f710c4",
   "metadata": {},
   "source": [
    "<span style='color:green'>Ans.The . is the current directory, while .. signifies the parent directory. It makes things quicker at the command line as well so you don't need to type out full paths.</span>"
   ]
  },
  {
   "cell_type": "markdown",
   "id": "0c03a172",
   "metadata": {},
   "source": [
    "5. In C:\\bacon\\eggs\\spam.txt, which part is the dir name, and which part is the base name?\n"
   ]
  },
  {
   "cell_type": "markdown",
   "id": "e8c736a6",
   "metadata": {},
   "source": [
    "<span style='color:green'>Ans.C:\\bacon\\eggs is the dir name, while spam. txt is the base name.</span>"
   ]
  },
  {
   "cell_type": "markdown",
   "id": "f68466f1",
   "metadata": {},
   "source": [
    "6. What are the three “mode” arguments that can be passed to the open() function?\n"
   ]
  },
  {
   "cell_type": "markdown",
   "id": "9386b452",
   "metadata": {},
   "source": [
    "<span style='color:green'>Ans. r: Opens the file in read-only mode. Starts reading from the beginning of the file and is the default mode for the open() function. <br>\n",
    "w: Opens in write-only mode. The pointer is placed at the beginning of the file and this will overwrite any existing file with the same name. It will create a new file if one with the same name doesn't exist.<br>\n",
    "a: Opens a file for appending new information to it. The pointer is placed at the end of the file. A new file is created if one with the same name doesn't exist.</span>"
   ]
  },
  {
   "cell_type": "markdown",
   "id": "6b097a1c",
   "metadata": {},
   "source": [
    "7. What happens if an existing file is opened in write mode?\n"
   ]
  },
  {
   "cell_type": "markdown",
   "id": "77cc8c12",
   "metadata": {},
   "source": [
    "<span style='color:green'>Ans.</span>"
   ]
  },
  {
   "cell_type": "code",
   "execution_count": 22,
   "id": "304c0d64",
   "metadata": {},
   "outputs": [
    {
     "name": "stdout",
     "output_type": "stream",
     "text": [
      "This is the write commandIt allows us to write in a particular file\n"
     ]
    }
   ],
   "source": [
    "file1 = open('write.txt','r')\n",
    "print(file1.read())\n",
    "file1.close()\n",
    "file = open('write.txt','w')\n",
    "file.write(\"This is the write command\")\n",
    "file.write(\"It allows us to write in a particular file\")\n",
    "file.close()"
   ]
  },
  {
   "cell_type": "markdown",
   "id": "4072d38b",
   "metadata": {},
   "source": [
    "8. How do you tell the difference between read() and readlines()?\n"
   ]
  },
  {
   "cell_type": "markdown",
   "id": "e52f52da",
   "metadata": {},
   "source": [
    "<span style='color:green'>Ans.The main difference is that read() will read the whole file at once and then print out the first characters that take up as many bytes as you specify in the parenthesis versus the readline() that will read and print out only the first characters that take up as many bytes as you specify in the parenthesis. </span>"
   ]
  },
  {
   "cell_type": "markdown",
   "id": "24eed4f7",
   "metadata": {},
   "source": [
    "9. What data structure does a shelf value resemble?"
   ]
  },
  {
   "cell_type": "markdown",
   "id": "11e72863",
   "metadata": {},
   "source": [
    "<span style='color:green'>Ans.A shelf value resembles a dictionary value; it has keys and values, along with keys() and values() methods that work similarly to the dictionary methods of the same names.\n",
    "</span>"
   ]
  }
 ],
 "metadata": {
  "kernelspec": {
   "display_name": "Python 3 (ipykernel)",
   "language": "python",
   "name": "python3"
  },
  "language_info": {
   "codemirror_mode": {
    "name": "ipython",
    "version": 3
   },
   "file_extension": ".py",
   "mimetype": "text/x-python",
   "name": "python",
   "nbconvert_exporter": "python",
   "pygments_lexer": "ipython3",
   "version": "3.9.12"
  }
 },
 "nbformat": 4,
 "nbformat_minor": 5
}
