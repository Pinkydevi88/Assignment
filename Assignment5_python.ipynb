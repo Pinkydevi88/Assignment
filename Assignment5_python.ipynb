{
 "cells": [
  {
   "cell_type": "markdown",
   "id": "024b3961",
   "metadata": {},
   "source": [
    "1. What does an empty dictionary's code look like?\n",
    "\n"
   ]
  },
  {
   "cell_type": "markdown",
   "id": "55abfafd",
   "metadata": {},
   "source": [
    "<span style=\"color: green\">Ans.</span>\n"
   ]
  },
  {
   "cell_type": "code",
   "execution_count": 1,
   "id": "5ba8f447",
   "metadata": {},
   "outputs": [],
   "source": [
    "items= {}"
   ]
  },
  {
   "cell_type": "code",
   "execution_count": 2,
   "id": "7c4e7961",
   "metadata": {},
   "outputs": [
    {
     "data": {
      "text/plain": [
       "dict"
      ]
     },
     "execution_count": 2,
     "metadata": {},
     "output_type": "execute_result"
    }
   ],
   "source": [
    "type(items)"
   ]
  },
  {
   "cell_type": "markdown",
   "id": "ade3f66a",
   "metadata": {},
   "source": [
    "2. What is the value of a dictionary value with the key 'foo' and the value 42?\n",
    "\n"
   ]
  },
  {
   "cell_type": "markdown",
   "id": "ee5562f4",
   "metadata": {},
   "source": [
    "<span style=\"color: green\">Ans.</span>\n"
   ]
  },
  {
   "cell_type": "code",
   "execution_count": 3,
   "id": "0e443159",
   "metadata": {},
   "outputs": [],
   "source": [
    "a={'foo': 42}"
   ]
  },
  {
   "cell_type": "code",
   "execution_count": 4,
   "id": "453027c4",
   "metadata": {},
   "outputs": [
    {
     "data": {
      "text/plain": [
       "{'foo': 42}"
      ]
     },
     "execution_count": 4,
     "metadata": {},
     "output_type": "execute_result"
    }
   ],
   "source": [
    "a"
   ]
  },
  {
   "cell_type": "markdown",
   "id": "ab234733",
   "metadata": {},
   "source": [
    "3. What is the most significant distinction between a dictionary and a list?\n"
   ]
  },
  {
   "cell_type": "markdown",
   "id": "feff2d8f",
   "metadata": {},
   "source": [
    "<span style=\"color: green\">Ans.The items stored in a dictionary are unordered, while the items in a list are ordered.</span>\n"
   ]
  },
  {
   "cell_type": "markdown",
   "id": "28556613",
   "metadata": {},
   "source": [
    "4. What happens if you try to access spam['foo'] if spam is {'bar': 100}?\n"
   ]
  },
  {
   "cell_type": "markdown",
   "id": "5cf4887d",
   "metadata": {},
   "source": [
    "<span style=\"color: green\">Ans.You get a KeyError error.</span>\n"
   ]
  },
  {
   "cell_type": "code",
   "execution_count": 5,
   "id": "8cf5c274",
   "metadata": {},
   "outputs": [],
   "source": [
    "spam={'bar':100}"
   ]
  },
  {
   "cell_type": "code",
   "execution_count": 6,
   "id": "6ebfec6a",
   "metadata": {},
   "outputs": [
    {
     "ename": "KeyError",
     "evalue": "'foo'",
     "output_type": "error",
     "traceback": [
      "\u001b[1;31m---------------------------------------------------------------------------\u001b[0m",
      "\u001b[1;31mKeyError\u001b[0m                                  Traceback (most recent call last)",
      "Input \u001b[1;32mIn [6]\u001b[0m, in \u001b[0;36m<cell line: 1>\u001b[1;34m()\u001b[0m\n\u001b[1;32m----> 1\u001b[0m \u001b[43mspam\u001b[49m\u001b[43m[\u001b[49m\u001b[38;5;124;43m'\u001b[39;49m\u001b[38;5;124;43mfoo\u001b[39;49m\u001b[38;5;124;43m'\u001b[39;49m\u001b[43m]\u001b[49m\n",
      "\u001b[1;31mKeyError\u001b[0m: 'foo'"
     ]
    }
   ],
   "source": [
    "spam['foo']"
   ]
  },
  {
   "cell_type": "markdown",
   "id": "f767e069",
   "metadata": {},
   "source": [
    "5. If a dictionary is stored in spam, what is the difference between the expressions 'cat' in spam and 'cat' in spam.keys()?\n"
   ]
  },
  {
   "cell_type": "markdown",
   "id": "e8445002",
   "metadata": {},
   "source": [
    "<span style=\"color: green\">Ans.There is no difference. The in operator checks whether a value exists as a key in the dictionary.</span>\n"
   ]
  },
  {
   "cell_type": "code",
   "execution_count": 7,
   "id": "d64b9ec1",
   "metadata": {},
   "outputs": [
    {
     "data": {
      "text/plain": [
       "True"
      ]
     },
     "execution_count": 7,
     "metadata": {},
     "output_type": "execute_result"
    }
   ],
   "source": [
    "spam ={'cat':100}\n",
    "'cat' in spam"
   ]
  },
  {
   "cell_type": "code",
   "execution_count": 8,
   "id": "47795538",
   "metadata": {},
   "outputs": [
    {
     "data": {
      "text/plain": [
       "True"
      ]
     },
     "execution_count": 8,
     "metadata": {},
     "output_type": "execute_result"
    }
   ],
   "source": [
    "'cat' in spam.keys()"
   ]
  },
  {
   "cell_type": "markdown",
   "id": "04622b4a",
   "metadata": {},
   "source": [
    "6. If a dictionary is stored in spam, what is the difference between the expressions 'cat' in spam and 'cat' in spam.values()?\n"
   ]
  },
  {
   "cell_type": "markdown",
   "id": "c60ed816",
   "metadata": {},
   "source": [
    "<span style=\"color: green\">Ans.</span>\n"
   ]
  },
  {
   "cell_type": "code",
   "execution_count": 9,
   "id": "351fb913",
   "metadata": {},
   "outputs": [
    {
     "data": {
      "text/plain": [
       "False"
      ]
     },
     "execution_count": 9,
     "metadata": {},
     "output_type": "execute_result"
    }
   ],
   "source": [
    "'cat' in spam.values()"
   ]
  },
  {
   "cell_type": "markdown",
   "id": "b2ac723a",
   "metadata": {},
   "source": [
    "7. What is a shortcut for the following code?\n",
    "if 'color' not in spam:\n",
    "spam['color'] = 'black'\n"
   ]
  },
  {
   "cell_type": "markdown",
   "id": "9c246636",
   "metadata": {},
   "source": [
    "<span style=\"color: green\">Ans.</span>\n"
   ]
  },
  {
   "cell_type": "code",
   "execution_count": 10,
   "id": "92e4e602",
   "metadata": {},
   "outputs": [
    {
     "data": {
      "text/plain": [
       "'black'"
      ]
     },
     "execution_count": 10,
     "metadata": {},
     "output_type": "execute_result"
    }
   ],
   "source": [
    "spam.setdefault('color', 'black')"
   ]
  },
  {
   "cell_type": "markdown",
   "id": "1e517d5d",
   "metadata": {},
   "source": [
    "\n",
    "8. How do you \"pretty print\" dictionary values using which module and function?"
   ]
  },
  {
   "cell_type": "markdown",
   "id": "7f93ed92",
   "metadata": {},
   "source": [
    "<span style=\"color: green\">Ans.</span>\n"
   ]
  },
  {
   "cell_type": "code",
   "execution_count": 11,
   "id": "7b08fd61",
   "metadata": {},
   "outputs": [
    {
     "name": "stdout",
     "output_type": "stream",
     "text": [
      "[{'Age': 34, 'Name': 'Pinks'},\n",
      " {'Age': 35, 'Name': 'Pinks1'},\n",
      " {'Age': 36, 'Name': 'Pinks2'},\n",
      " {'Age': 37, 'Name': 'Pinks3'}]\n"
     ]
    }
   ],
   "source": [
    "import pprint\n",
    "dict1=[{\"Name\":\"Pinks\", \"Age\":34},\n",
    "       {\"Name\":\"Pinks1\", \"Age\":35},\n",
    "       {\"Name\":\"Pinks2\", \"Age\":36},\n",
    "       {\"Name\":\"Pinks3\", \"Age\":37}\n",
    "      ]\n",
    "pprint.pprint(dict1)"
   ]
  },
  {
   "cell_type": "code",
   "execution_count": 12,
   "id": "61751134",
   "metadata": {},
   "outputs": [
    {
     "name": "stdout",
     "output_type": "stream",
     "text": [
      "[{'Name': 'Pinks', 'Age': 34}, {'Name': 'Pinks1', 'Age': 35}, {'Name': 'Pinks2', 'Age': 36}, {'Name': 'Pinks3', 'Age': 37}]\n"
     ]
    }
   ],
   "source": [
    "print(dict1)"
   ]
  }
 ],
 "metadata": {
  "kernelspec": {
   "display_name": "Python 3 (ipykernel)",
   "language": "python",
   "name": "python3"
  },
  "language_info": {
   "codemirror_mode": {
    "name": "ipython",
    "version": 3
   },
   "file_extension": ".py",
   "mimetype": "text/x-python",
   "name": "python",
   "nbconvert_exporter": "python",
   "pygments_lexer": "ipython3",
   "version": "3.9.12"
  }
 },
 "nbformat": 4,
 "nbformat_minor": 5
}
