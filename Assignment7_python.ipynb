{
 "cells": [
  {
   "cell_type": "markdown",
   "id": "6214ebe3",
   "metadata": {},
   "source": [
    "1. What is the name of the feature responsible for generating Regex objects?\n"
   ]
  },
  {
   "cell_type": "markdown",
   "id": "f4a662d9",
   "metadata": {},
   "source": [
    "<span style = \"color:aqua\">Ans.The re.compile() function returns Regex objects.</span>"
   ]
  },
  {
   "cell_type": "markdown",
   "id": "c4e133a1",
   "metadata": {},
   "source": [
    "2. Why do raw strings often appear in Regex objects?\n"
   ]
  },
  {
   "cell_type": "markdown",
   "id": "abc56c20",
   "metadata": {},
   "source": [
    "<span style = \"color:aqua\">Ans.Raw string notation (r\"text\") keeps regular expressions meaningful and confusion-free. Without it, every backslash \\ in a regular expression would have to be prefixed with another one to escape it.\n",
    "</span>\n",
    "    \n",
    "    For example, the two bellow lines of code are functionally identical − "
   ]
  },
  {
   "cell_type": "code",
   "execution_count": 1,
   "id": "74aef568",
   "metadata": {},
   "outputs": [
    {
     "data": {
      "text/plain": [
       "<re.Match object; span=(0, 4), match=' ff '>"
      ]
     },
     "execution_count": 1,
     "metadata": {},
     "output_type": "execute_result"
    }
   ],
   "source": [
    "import re\n",
    "re.match(r\"\\W(.)\\1\\W\", \" ff \")"
   ]
  },
  {
   "cell_type": "code",
   "execution_count": 2,
   "id": "07c2f24a",
   "metadata": {},
   "outputs": [
    {
     "data": {
      "text/plain": [
       "<re.Match object; span=(0, 4), match=' ff '>"
      ]
     },
     "execution_count": 2,
     "metadata": {},
     "output_type": "execute_result"
    }
   ],
   "source": [
    "re.match(\"\\\\W(.)\\\\1\\\\W\", \" ff \")"
   ]
  },
  {
   "cell_type": "markdown",
   "id": "b2962a9f",
   "metadata": {},
   "source": [
    "3. What is the return value of the search() method?\n",
    "\n"
   ]
  },
  {
   "cell_type": "markdown",
   "id": "87e80466",
   "metadata": {},
   "source": [
    "<span style = \"color:aqua\">Ans.The search() method returns Match objects.</span>"
   ]
  },
  {
   "cell_type": "markdown",
   "id": "11d5ef5d",
   "metadata": {},
   "source": [
    "4. From a Match item, how do you get the actual strings that match the pattern?\n"
   ]
  },
  {
   "cell_type": "markdown",
   "id": "8ce6e20d",
   "metadata": {},
   "source": [
    "<span style = \"color:aqua\">Ans.The group() method returns strings of the matched text.</span>"
   ]
  },
  {
   "cell_type": "markdown",
   "id": "17cc4d64",
   "metadata": {},
   "source": [
    "5. In the regex which created from the r'(\\d\\d\\d)-(\\d\\d\\d-\\d\\d\\d\\d)', what does group zero cover? Group 2? Group 1?\n",
    "\n"
   ]
  },
  {
   "cell_type": "markdown",
   "id": "9f11a7d0",
   "metadata": {},
   "source": [
    "<span style = \"color:aqua\">Ans.</span>"
   ]
  },
  {
   "cell_type": "code",
   "execution_count": 3,
   "id": "e2b949db",
   "metadata": {},
   "outputs": [
    {
     "name": "stdout",
     "output_type": "stream",
     "text": [
      "111-222-3333\n",
      "111\n",
      "222-3333\n"
     ]
    }
   ],
   "source": [
    "phoneNumRegex = re.compile(r'(\\d\\d\\d)-(\\d\\d\\d-\\d\\d\\d\\d)')\n",
    "mo = phoneNumRegex.search('My number is 111-222-3333.')\n",
    "print(mo.group(0))\n",
    "print(mo.group(1))\n",
    "print(mo.group(2))"
   ]
  },
  {
   "cell_type": "markdown",
   "id": "34c23bd4",
   "metadata": {},
   "source": [
    "6. In standard expression syntax, parentheses and intervals have distinct meanings. How can you tell a regex that you want it to fit real parentheses and periods?\n"
   ]
  },
  {
   "cell_type": "markdown",
   "id": "67e60ebc",
   "metadata": {},
   "source": [
    "<span style = \"color:aqua\">Ans.Periods and parentheses can be escaped with a backslash: </span>\n",
    "\n",
    "\n",
    "    \\., \\(, and \\)."
   ]
  },
  {
   "cell_type": "markdown",
   "id": "acdc83fe",
   "metadata": {},
   "source": [
    "7. The findall() method returns a string list or a list of string tuples. What causes it to return one of the two options?\n"
   ]
  },
  {
   "cell_type": "markdown",
   "id": "ce83f270",
   "metadata": {},
   "source": [
    "<span style = \"color:aqua\">Ans.If the regex has no groups, a list of strings is returned. If the regex has groups, a list of tuples of strings is returned.</span>"
   ]
  },
  {
   "cell_type": "code",
   "execution_count": 4,
   "id": "3b1eef23",
   "metadata": {},
   "outputs": [
    {
     "data": {
      "text/plain": [
       "['data', 'science']"
      ]
     },
     "execution_count": 4,
     "metadata": {},
     "output_type": "execute_result"
    }
   ],
   "source": [
    "re.findall('[a-z]+','data science')"
   ]
  },
  {
   "cell_type": "markdown",
   "id": "5b76f76c",
   "metadata": {},
   "source": [
    "8. In standard expressions, what does the | character mean?\n"
   ]
  },
  {
   "cell_type": "markdown",
   "id": "2e24bdc4",
   "metadata": {},
   "source": [
    "<span style = \"color:aqua\">Ans.\n",
    "A|B, where A and B can be creates an expression that will match either A or B. </span>"
   ]
  },
  {
   "cell_type": "markdown",
   "id": "05e66650",
   "metadata": {},
   "source": [
    "9. In regular expressions, what does the character stand for?\n"
   ]
  },
  {
   "cell_type": "markdown",
   "id": "ed1022fa",
   "metadata": {},
   "source": [
    "<span style = \"color:aqua\">Ans.? Causes the resulting RE to match 0 or 1 repetitions of the preceding RE. ab? will match either ‘a’ or ‘ab’.</span>"
   ]
  },
  {
   "cell_type": "markdown",
   "id": "a0c1fe18",
   "metadata": {},
   "source": [
    "10.In regular expressions, what is the difference between the + and * characters?\n"
   ]
  },
  {
   "cell_type": "markdown",
   "id": "2fc34bac",
   "metadata": {},
   "source": [
    "<span style = \"color:aqua\">\n",
    "Ans.*\n",
    "Causes the resulting RE to match 0 or more repetitions of the preceding RE, as many repetitions as are possible. ab* will match ‘a’, ‘ab’, or ‘a’ followed by any number of ‘b’s.\n",
    "\n",
    "+\n",
    "Causes the resulting RE to match 1 or more repetitions of the preceding RE. ab+ will match ‘a’ followed by any non-zero number of ‘b’s; it will not match just ‘a’.</span>"
   ]
  },
  {
   "cell_type": "markdown",
   "id": "db8ecb14",
   "metadata": {},
   "source": [
    "11. What is the difference between {4} and {4,5} in regular expression?\n"
   ]
  },
  {
   "cell_type": "markdown",
   "id": "c18b74be",
   "metadata": {},
   "source": [
    "<span style = \"color:aqua\">Ans.{4} Matches the expression to its left 4 times, and not less.\n",
    "{4,5}  Matches the expression to its left 4 to 5 times, and not less.</span>"
   ]
  },
  {
   "cell_type": "markdown",
   "id": "3c217318",
   "metadata": {},
   "source": [
    "12. What do you mean by the \\d, \\w, and \\s shorthand character classes signify in regular expressions?\n"
   ]
  },
  {
   "cell_type": "markdown",
   "id": "cf80e9d3",
   "metadata": {},
   "source": [
    "<span style = \"color:aqua\">Ans.The \\d, \\w, and \\s shorthand character classes match a single character that is a digit, word, or space character, respectively.</span>"
   ]
  },
  {
   "cell_type": "markdown",
   "id": "597fff58",
   "metadata": {},
   "source": [
    "13. What do means by \\D, \\W, and \\S shorthand character classes signify in regular expressions?\n"
   ]
  },
  {
   "cell_type": "markdown",
   "id": "66f306b8",
   "metadata": {},
   "source": [
    "<span style = \"color:aqua\">Ans.The \\D, \\W, and \\S shorthand character classes match a single character that is not a digit, word, or space character, respectively.</span>"
   ]
  },
  {
   "cell_type": "markdown",
   "id": "1f58e55e",
   "metadata": {},
   "source": [
    "14. What is the difference between .* ? and .*     .?\n"
   ]
  },
  {
   "cell_type": "markdown",
   "id": "bc6ce799",
   "metadata": {},
   "source": [
    "<span style = \"color:aqua\">Ans.\n",
    "It is the difference between greedy and non-greedy quantifiers.\n",
    "Consider the input 101000000000100.\n",
    "Using 1.* 1, \n",
    ".* is greedy - it will match all the way to the end, and then backtrack until it can match 1, leaving you with 1010000000001.\n",
    ".*? is non-greedy - it will match nothing, but then will try to match extra characters until it matches 1, eventually matching 101.\n",
    "</span>"
   ]
  },
  {
   "cell_type": "markdown",
   "id": "7c27af7e",
   "metadata": {},
   "source": [
    "15. What is the syntax for matching both numbers and lowercase letters with a character class?\n"
   ]
  },
  {
   "cell_type": "markdown",
   "id": "bd438992",
   "metadata": {},
   "source": [
    "<span style = \"color:aqua\">Ans.The character class [a-zA-Z0-9] will match all lowercase letters, uppercase letters, and numbers.</span>"
   ]
  },
  {
   "cell_type": "markdown",
   "id": "18272482",
   "metadata": {},
   "source": [
    "16. What is the procedure for making a normal expression in regax case insensitive?\n"
   ]
  },
  {
   "cell_type": "markdown",
   "id": "71ebabc2",
   "metadata": {},
   "source": [
    "<span style = \"color:aqua\">Ans.</span>"
   ]
  },
  {
   "cell_type": "code",
   "execution_count": 5,
   "id": "bf4122b0",
   "metadata": {},
   "outputs": [
    {
     "name": "stdout",
     "output_type": "stream",
     "text": [
      "Valid\n",
      "Invalid\n",
      "Invalid\n",
      "Valid\n"
     ]
    }
   ],
   "source": [
    "def validating_name(name):\n",
    "  # RegexObject = re.compile( Regular expression, flag )\n",
    "  # Compiles a regular expression pattern into a regular expression object\n",
    "    regex_name = re.compile(r'^(Mr\\.|Mrs\\.|Ms\\.) ([a-z]+)( [a-z]+)*( [a-z]+)*$', re.IGNORECASE)\n",
    "  \n",
    "    # RegexObject is matched with the desired \n",
    "    # string using search function\n",
    "    # In case a match is found, search() returns\n",
    "    # MatchObject Instance\n",
    "    # If match is not found, it return None\n",
    "    res = regex_name.search(name)\n",
    "  \n",
    "    # If match is found, the string is valid\n",
    "    if res: print(\"Valid\")\n",
    "          \n",
    "    # If match is not found, string is invalid\n",
    "    else: print(\"Invalid\")\n",
    "  \n",
    "# Driver Code\n",
    "validating_name('Mr. Albus Severus potter')\n",
    "validating_name('lily and Mr. harry potter')\n",
    "validating_name('cedric')\n",
    "validating_name('Mr. black')"
   ]
  },
  {
   "cell_type": "markdown",
   "id": "28bc22b5",
   "metadata": {},
   "source": [
    "17. What does the . character normally match? What does it match if re.DOTALL is passed as 2nd argument in re.compile()?\n"
   ]
  },
  {
   "cell_type": "markdown",
   "id": "af733d48",
   "metadata": {},
   "source": [
    "<span style = \"color:aqua\">Ans.By using re.DOTALL flag, you can modify the behavior of dot (.) character to match the newline character apart from other characters.</span>"
   ]
  },
  {
   "cell_type": "code",
   "execution_count": 6,
   "id": "31352d1b",
   "metadata": {},
   "outputs": [
    {
     "name": "stdout",
     "output_type": "stream",
     "text": [
      "<re.Match object; span=(0, 18), match='Hello,\\nDataScience'>\n"
     ]
    }
   ],
   "source": [
    "match = re.search(r'.+','Hello,\\nDataScience', re.DOTALL)\n",
    "print(match)"
   ]
  },
  {
   "cell_type": "markdown",
   "id": "1a851568",
   "metadata": {},
   "source": [
    "<span style = \"color:aqua\">Ans.</span>"
   ]
  },
  {
   "cell_type": "markdown",
   "id": "80c584cc",
   "metadata": {},
   "source": [
    "18. If numRegex = re.compile(r'\\d+'), what will numRegex.sub('X', '11 drummers, 10 pipers, five rings, 4 hen') return?"
   ]
  },
  {
   "cell_type": "code",
   "execution_count": 7,
   "id": "6adbead3",
   "metadata": {},
   "outputs": [
    {
     "data": {
      "text/plain": [
       "'X drummers, X pipers, five rings, X hen'"
      ]
     },
     "execution_count": 7,
     "metadata": {},
     "output_type": "execute_result"
    }
   ],
   "source": [
    "numRegex= re.compile(r'\\d+')\n",
    "numRegex.sub('X', '11 drummers, 10 pipers, five rings, 4 hen')"
   ]
  },
  {
   "cell_type": "markdown",
   "id": "7b36982c",
   "metadata": {},
   "source": [
    "19. What does passing re.VERBOSE as the 2nd argument to re.compile() allow to do?\n"
   ]
  },
  {
   "cell_type": "markdown",
   "id": "9fd0b445",
   "metadata": {},
   "source": [
    "<span style = \"color:aqua\">Ans.The re. VERBOSE argument allows you to add whitespace and comments to the string passed to re.</span>"
   ]
  },
  {
   "cell_type": "markdown",
   "id": "3a9db6be",
   "metadata": {},
   "source": [
    "For example:\n",
    "Input : expectopatronum@gmail.com\n",
    "Output : Valid\n",
    "\n",
    "\n",
    "Input : avadakedavra@yahoo.com@\n",
    "Output : Invalid\n",
    "This is invalid because there is @ after the top level domain name."
   ]
  },
  {
   "cell_type": "markdown",
   "id": "24f2ac29",
   "metadata": {},
   "source": [
    "20. How would you write a regex that match a number with comma for every three digits? It must match the given following:\n",
    "'42'\n",
    "'1,234'\n",
    "'6,368,745'\n",
    "but not the following:\n",
    "'12,34,567' (which has only two digits between the commas)\n",
    "'1234' (which lacks commas)"
   ]
  },
  {
   "cell_type": "markdown",
   "id": "575aacee",
   "metadata": {},
   "source": [
    "<span style = \"color:aqua\">Ans.re.compile(r'^\\d{1,3}(,\\d{3})*$')</span>"
   ]
  },
  {
   "cell_type": "markdown",
   "id": "8c822c60",
   "metadata": {},
   "source": [
    "21. How would you write a regex that matches the full name of someone whose last name is Watanabe? You can assume that the first name that comes before it will always be one word that begins with a capital letter. The regex must match the following:\n",
    "'Haruto Watanabe'\n",
    "'Alice Watanabe'\n",
    "'RoboCop Watanabe'\n",
    "but not the following:\n",
    "'haruto Watanabe' (where the first name is not capitalized)\n",
    "'Mr. Watanabe' (where the preceding word has a nonletter character)\n",
    "'Watanabe' (which has no first name)\n",
    "'Haruto watanabe' (where Watanabe is not capitalized)\n"
   ]
  },
  {
   "cell_type": "markdown",
   "id": "69e709e8",
   "metadata": {},
   "source": [
    "<span style = \"color:aqua\">Ans.re.compile(r'[A-Z][a-z]*\\sWatanabe)</span>"
   ]
  },
  {
   "cell_type": "markdown",
   "id": "c1168ea2",
   "metadata": {},
   "source": [
    "22. How would you write a regex that matches a sentence where the first word is either Alice, Bob, or Carol; the second word is either eats, pets, or throws; the third word is apples, cats, or baseballs; and the sentence ends with a period? This regex should be case-insensitive. It must match the following:\n",
    "'Alice eats apples.'\n",
    "'Bob pets cats.'\n",
    "'Carol throws baseballs.'\n",
    "'Alice throws Apples.'\n",
    "'BOB EATS CATS.'\n",
    "but not the following:\n",
    "'RoboCop eats apples.'\n",
    "'ALICE THROWS FOOTBALLS.'\n",
    "'Carol eats 7 cats.'"
   ]
  },
  {
   "cell_type": "markdown",
   "id": "3d94283c",
   "metadata": {},
   "source": [
    "<span style = \"color:aqua\">Ans.</span>"
   ]
  },
  {
   "cell_type": "code",
   "execution_count": 8,
   "id": "52fccd43",
   "metadata": {},
   "outputs": [
    {
     "name": "stdout",
     "output_type": "stream",
     "text": [
      "<re.Match object; span=(0, 18), match='Alice eats apples.'>\n"
     ]
    }
   ],
   "source": [
    "sentenceMatchRegex = re.compile(r'''\n",
    "(Alice|Bob|Carol)        # The names\n",
    "\\s                            # space\n",
    "(eats|pets|throws)      # verds\n",
    "\\s                            # space\n",
    "(apples|cats|baseballs) # nouns\n",
    "\\.                            # period\n",
    "''', re.VERBOSE|re.I)\n",
    "\n",
    "sentenceMatchRegex.findall('Alice eats apples.')\n",
    "print(sentenceMatchRegex.match('Alice eats apples.'))"
   ]
  },
  {
   "cell_type": "code",
   "execution_count": 49,
   "id": "3a58b51c",
   "metadata": {},
   "outputs": [
    {
     "name": "stdout",
     "output_type": "stream",
     "text": [
      "<re.Match object; span=(0, 18), match='Alice eats apples.'>\n"
     ]
    }
   ],
   "source": [
    "\n"
   ]
  },
  {
   "cell_type": "code",
   "execution_count": 9,
   "id": "d4556fc6",
   "metadata": {},
   "outputs": [
    {
     "name": "stdout",
     "output_type": "stream",
     "text": [
      "None\n"
     ]
    }
   ],
   "source": [
    "sentenceMatchRegex.findall('RoboCop eats apples.')\n",
    "print(sentenceMatchRegex.match('RoboCop eats apples.'))\n"
   ]
  }
 ],
 "metadata": {
  "kernelspec": {
   "display_name": "Python 3 (ipykernel)",
   "language": "python",
   "name": "python3"
  },
  "language_info": {
   "codemirror_mode": {
    "name": "ipython",
    "version": 3
   },
   "file_extension": ".py",
   "mimetype": "text/x-python",
   "name": "python",
   "nbconvert_exporter": "python",
   "pygments_lexer": "ipython3",
   "version": "3.9.12"
  }
 },
 "nbformat": 4,
 "nbformat_minor": 5
}
