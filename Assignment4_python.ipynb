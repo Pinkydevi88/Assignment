{
 "cells": [
  {
   "cell_type": "markdown",
   "id": "4b28a419",
   "metadata": {},
   "source": [
    "1. What exactly is []?"
   ]
  },
  {
   "cell_type": "markdown",
   "id": "687eac51",
   "metadata": {},
   "source": [
    "<span style= \"color:green\"> Ans: The empty list value, which is a list value that contains no items. This is similar to how '' is the empty string value.</span>"
   ]
  },
  {
   "cell_type": "markdown",
   "id": "4d5cbd7a",
   "metadata": {},
   "source": [
    "2. In a list of values stored in a variable called spam, how would you assign the value &#39;hello&#39; as the\n",
    "third value? (Assume [2, 4, 6, 8, 10] are in spam.)"
   ]
  },
  {
   "cell_type": "markdown",
   "id": "6bb63f43",
   "metadata": {},
   "source": [
    "<span style=\"color:green\">Ans.spam[2] =\"hello\", where spam[2] is the third index value.</span>"
   ]
  },
  {
   "cell_type": "markdown",
   "id": "4c33d889",
   "metadata": {},
   "source": [
    "Let's pretend the spam includes the list ['a', 'b', 'c', 'd'] for the next three queries.\n",
    "3. What is the value of spam[int(int('3' * 2) / 11)]?\n",
    "4. What is the value of spam[-1]?\n",
    "5. What is the value of spam[:2]?\n"
   ]
  },
  {
   "cell_type": "code",
   "execution_count": 1,
   "id": "bdda561c",
   "metadata": {},
   "outputs": [],
   "source": [
    "spam=['a', 'b', 'c', 'd']"
   ]
  },
  {
   "cell_type": "markdown",
   "id": "19492b4d",
   "metadata": {},
   "source": [
    "<span style=\"color:green\">Ans.3</span>"
   ]
  },
  {
   "cell_type": "code",
   "execution_count": 2,
   "id": "9f37d414",
   "metadata": {},
   "outputs": [
    {
     "data": {
      "text/plain": [
       "'d'"
      ]
     },
     "execution_count": 2,
     "metadata": {},
     "output_type": "execute_result"
    }
   ],
   "source": [
    "spam[int(int('3' * 2) / 11)]"
   ]
  },
  {
   "cell_type": "markdown",
   "id": "185dedc5",
   "metadata": {},
   "source": [
    "<span style=\"color:green\">Ans.4</span>"
   ]
  },
  {
   "cell_type": "code",
   "execution_count": 3,
   "id": "39d67be2",
   "metadata": {},
   "outputs": [
    {
     "data": {
      "text/plain": [
       "'d'"
      ]
     },
     "execution_count": 3,
     "metadata": {},
     "output_type": "execute_result"
    }
   ],
   "source": [
    "spam[-1]"
   ]
  },
  {
   "cell_type": "markdown",
   "id": "d91940d4",
   "metadata": {},
   "source": [
    "<span style=\"color:green\">Ans.5</span>\n"
   ]
  },
  {
   "cell_type": "code",
   "execution_count": 4,
   "id": "ad238567",
   "metadata": {},
   "outputs": [
    {
     "data": {
      "text/plain": [
       "['a', 'b']"
      ]
     },
     "execution_count": 4,
     "metadata": {},
     "output_type": "execute_result"
    }
   ],
   "source": [
    "spam[:2]"
   ]
  },
  {
   "cell_type": "markdown",
   "id": "b7a48be0",
   "metadata": {},
   "source": [
    "Let's pretend bacon has the list [3.14, 'cat,' 11, 'cat,' True] for the next three questions.\n",
    "\n",
    "6. What is the value of bacon.index('cat')?\n",
    "7. How does bacon.append(99) change the look of the list value in bacon?\n",
    "8. How does bacon.remove('cat') change the look of the list in bacon?\n"
   ]
  },
  {
   "cell_type": "code",
   "execution_count": 5,
   "id": "61556bbc",
   "metadata": {},
   "outputs": [],
   "source": [
    "bacon = [3.14, 'cat', 11, 'cat', True]"
   ]
  },
  {
   "cell_type": "markdown",
   "id": "18c2eb1c",
   "metadata": {},
   "source": [
    "<span style=\"color:green\">Ans.6</span>"
   ]
  },
  {
   "cell_type": "code",
   "execution_count": 6,
   "id": "413e9747",
   "metadata": {
    "scrolled": true
   },
   "outputs": [
    {
     "data": {
      "text/plain": [
       "1"
      ]
     },
     "execution_count": 6,
     "metadata": {},
     "output_type": "execute_result"
    }
   ],
   "source": [
    "bacon.index('cat')"
   ]
  },
  {
   "cell_type": "markdown",
   "id": "58051fd6",
   "metadata": {},
   "source": [
    "<span style=\"color:green\">Ans.7</span>"
   ]
  },
  {
   "cell_type": "markdown",
   "id": "32337b4c",
   "metadata": {},
   "source": [
    "bacon.append(99)"
   ]
  },
  {
   "cell_type": "code",
   "execution_count": 7,
   "id": "4c2e9853",
   "metadata": {},
   "outputs": [
    {
     "data": {
      "text/plain": [
       "[3.14, 'cat', 11, 'cat', True]"
      ]
     },
     "execution_count": 7,
     "metadata": {},
     "output_type": "execute_result"
    }
   ],
   "source": [
    "bacon"
   ]
  },
  {
   "cell_type": "markdown",
   "id": "75e2c1b0",
   "metadata": {},
   "source": [
    "<span style=\"color:green\">Ans.8</span>"
   ]
  },
  {
   "cell_type": "code",
   "execution_count": 8,
   "id": "d0cf4e05",
   "metadata": {},
   "outputs": [],
   "source": [
    "bacon.remove('cat')"
   ]
  },
  {
   "cell_type": "code",
   "execution_count": 9,
   "id": "0585fe36",
   "metadata": {},
   "outputs": [
    {
     "data": {
      "text/plain": [
       "[3.14, 11, 'cat', True]"
      ]
     },
     "execution_count": 9,
     "metadata": {},
     "output_type": "execute_result"
    }
   ],
   "source": [
    "bacon"
   ]
  },
  {
   "cell_type": "markdown",
   "id": "86278bde",
   "metadata": {},
   "source": [
    "9. What are the list concatenation and list replication operators?"
   ]
  },
  {
   "cell_type": "markdown",
   "id": "69c0ad13",
   "metadata": {},
   "source": [
    "<span style=\"color:green\">Ans.The operator for list concatenation is +, while the operator for replication is *. (This is the same as for strings.)</span>"
   ]
  },
  {
   "cell_type": "markdown",
   "id": "c9481b60",
   "metadata": {},
   "source": [
    "10. What is difference between the list methods append() and insert()?"
   ]
  },
  {
   "cell_type": "markdown",
   "id": "f16a0465",
   "metadata": {},
   "source": [
    "<span style=\"color:green\">Ans.While append() will add values only to the end of a list, insert() can add them anywhere in the list.</span>"
   ]
  },
  {
   "cell_type": "markdown",
   "id": "cb5209de",
   "metadata": {},
   "source": [
    "11. What are the two methods for removing items from a list?\n",
    "\n"
   ]
  },
  {
   "cell_type": "markdown",
   "id": "23190c11",
   "metadata": {},
   "source": [
    "<span style=\"color:green\">Ans.The del statement and the remove() list method are two ways to remove values from a list.</span>"
   ]
  },
  {
   "cell_type": "markdown",
   "id": "b4ace903",
   "metadata": {},
   "source": [
    "12. Describe how list values and string values are identical.\n"
   ]
  },
  {
   "cell_type": "markdown",
   "id": "6e4e441d",
   "metadata": {},
   "source": [
    "<span style=\"color:green\">Ans.Both lists and strings can be passed to len(), have indexes and slices, be used in for loops, be concatenated or replicated, and be used with the in and not in operators.</span>"
   ]
  },
  {
   "cell_type": "markdown",
   "id": "5c923b8a",
   "metadata": {},
   "source": [
    "13. What's the difference between tuples and lists?\n"
   ]
  },
  {
   "cell_type": "markdown",
   "id": "592efe8b",
   "metadata": {},
   "source": [
    "<span style=\"color:green\">Ans.Lists are mutable; they can have values added, removed, or changed. Tuples are immutable; they cannot be changed at all. Also, tuples are written using parentheses, ( and ), while lists use the square brackets, [ and ].</span>"
   ]
  },
  {
   "cell_type": "markdown",
   "id": "64cda23d",
   "metadata": {},
   "source": [
    "14. How do you type a tuple value that only contains the integer 42?\n"
   ]
  },
  {
   "cell_type": "markdown",
   "id": "0d23b6d7",
   "metadata": {},
   "source": [
    "<span style=\"color:green\">Ans.(42,) (The comma is mandatory.)</span>"
   ]
  },
  {
   "cell_type": "code",
   "execution_count": 10,
   "id": "ea70c77a",
   "metadata": {},
   "outputs": [],
   "source": [
    "a=(42,)"
   ]
  },
  {
   "cell_type": "code",
   "execution_count": 11,
   "id": "7a591458",
   "metadata": {},
   "outputs": [
    {
     "data": {
      "text/plain": [
       "tuple"
      ]
     },
     "execution_count": 11,
     "metadata": {},
     "output_type": "execute_result"
    }
   ],
   "source": [
    "type(a)"
   ]
  },
  {
   "cell_type": "markdown",
   "id": "9d98cd4e",
   "metadata": {},
   "source": [
    "15. How do you get a list value's tuple form? How do you get a tuple value's list form?\n"
   ]
  },
  {
   "cell_type": "markdown",
   "id": "4a6b263f",
   "metadata": {},
   "source": [
    "<span style=\"color:green\">Ans.The tuple() and list() functions, respectively</span>"
   ]
  },
  {
   "cell_type": "code",
   "execution_count": 12,
   "id": "346dcdc9",
   "metadata": {},
   "outputs": [
    {
     "name": "stdout",
     "output_type": "stream",
     "text": [
      "(10, 20, 30, 40, 50)\n"
     ]
    }
   ],
   "source": [
    "c = [10, 20, 30, 40, 50]\n",
    "my_tuple = tuple(c)\n",
    "print(my_tuple)"
   ]
  },
  {
   "cell_type": "code",
   "execution_count": 13,
   "id": "40323e08",
   "metadata": {},
   "outputs": [
    {
     "name": "stdout",
     "output_type": "stream",
     "text": [
      "[10, 20, 30, 40, 50]\n"
     ]
    }
   ],
   "source": [
    "b = (10, 20, 30, 40, 50)\n",
    "my_tuple = list(b)\n",
    "print(my_tuple)"
   ]
  },
  {
   "cell_type": "markdown",
   "id": "eecdb0d1",
   "metadata": {},
   "source": [
    "16. Variables that \"contain\" list values are not necessarily lists themselves. Instead, what do they contain?\n"
   ]
  },
  {
   "cell_type": "markdown",
   "id": "489d2ea8",
   "metadata": {},
   "source": [
    "<span style=\"color:green\">Ans.They contain references to list values.</span>"
   ]
  },
  {
   "cell_type": "markdown",
   "id": "95402391",
   "metadata": {},
   "source": [
    "17. How do you distinguish between copy.copy() and copy.deepcopy()?"
   ]
  },
  {
   "cell_type": "markdown",
   "id": "368f7c8e",
   "metadata": {},
   "source": [
    "<span style=\"color:green\">Ans.The copy.copy() function will do a shallow copy of a list, while the copy.deepcopy() function will do a deep copy of a list. That is, only copy.deepcopy() will duplicate any lists inside the list.\n",
    "\n",
    "    copy.copy(x)\n",
    "Return a shallow copy of x.\n",
    "\n",
    "    copy.deepcopy(x[, memo])\n",
    "Return a deep copy of x.</span>"
   ]
  },
  {
   "cell_type": "code",
   "execution_count": 14,
   "id": "f346b4e6",
   "metadata": {},
   "outputs": [],
   "source": [
    "# importing copy module\n",
    "import copy\n",
    "  \n",
    "# initializing list 1 \n",
    "li1 = [1, 2, [3,5], 4]\n",
    "  \n",
    "# using copy for shallow copy  \n",
    "li2 = copy.copy(li1) \n",
    "  \n",
    "# using deepcopy for deepcopy  \n",
    "li3 = copy.deepcopy(li1) "
   ]
  },
  {
   "cell_type": "code",
   "execution_count": 15,
   "id": "267e75eb",
   "metadata": {},
   "outputs": [
    {
     "data": {
      "text/plain": [
       "[1, 2, [3, 5], 4]"
      ]
     },
     "execution_count": 15,
     "metadata": {},
     "output_type": "execute_result"
    }
   ],
   "source": [
    "li1"
   ]
  },
  {
   "cell_type": "code",
   "execution_count": 16,
   "id": "9974aeff",
   "metadata": {},
   "outputs": [
    {
     "data": {
      "text/plain": [
       "[1, 2, [3, 5], 4]"
      ]
     },
     "execution_count": 16,
     "metadata": {},
     "output_type": "execute_result"
    }
   ],
   "source": [
    "li2"
   ]
  },
  {
   "cell_type": "code",
   "execution_count": 17,
   "id": "0537ce94",
   "metadata": {},
   "outputs": [
    {
     "data": {
      "text/plain": [
       "[1, 2, [3, 5], 4]"
      ]
     },
     "execution_count": 17,
     "metadata": {},
     "output_type": "execute_result"
    }
   ],
   "source": [
    "li3"
   ]
  },
  {
   "cell_type": "code",
   "execution_count": 18,
   "id": "ab6c6be3",
   "metadata": {},
   "outputs": [],
   "source": [
    "# adding and element to new list\n",
    "li2[2][0] = 7"
   ]
  },
  {
   "cell_type": "code",
   "execution_count": 19,
   "id": "707d750a",
   "metadata": {},
   "outputs": [
    {
     "data": {
      "text/plain": [
       "[1, 2, [7, 5], 4]"
      ]
     },
     "execution_count": 19,
     "metadata": {},
     "output_type": "execute_result"
    }
   ],
   "source": [
    "li2"
   ]
  },
  {
   "cell_type": "code",
   "execution_count": 20,
   "id": "897788f6",
   "metadata": {},
   "outputs": [
    {
     "data": {
      "text/plain": [
       "[1, 2, [3, 5], 4]"
      ]
     },
     "execution_count": 20,
     "metadata": {},
     "output_type": "execute_result"
    }
   ],
   "source": [
    "li3"
   ]
  }
 ],
 "metadata": {
  "kernelspec": {
   "display_name": "Python 3 (ipykernel)",
   "language": "python",
   "name": "python3"
  },
  "language_info": {
   "codemirror_mode": {
    "name": "ipython",
    "version": 3
   },
   "file_extension": ".py",
   "mimetype": "text/x-python",
   "name": "python",
   "nbconvert_exporter": "python",
   "pygments_lexer": "ipython3",
   "version": "3.9.12"
  }
 },
 "nbformat": 4,
 "nbformat_minor": 5
}
