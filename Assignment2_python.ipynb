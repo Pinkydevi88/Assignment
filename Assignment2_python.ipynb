{
 "cells": [
  {
   "cell_type": "code",
   "execution_count": 37,
   "id": "96086f58",
   "metadata": {},
   "outputs": [
    {
     "data": {
      "text/plain": [
       "True"
      ]
     },
     "execution_count": 37,
     "metadata": {},
     "output_type": "execute_result"
    }
   ],
   "source": [
    "#1.What are the two values of the Boolean data type? How do you write them?\n",
    "#Ans: Boolean type is one of the built-in data types provided by Python, which represents one of the two values i.e. True or False.\n",
    "a = 10\n",
    "a > 8\n"
   ]
  },
  {
   "cell_type": "code",
   "execution_count": 4,
   "id": "0bd43eea",
   "metadata": {},
   "outputs": [
    {
     "data": {
      "text/plain": [
       "False"
      ]
     },
     "execution_count": 4,
     "metadata": {},
     "output_type": "execute_result"
    }
   ],
   "source": [
    "a < 10"
   ]
  },
  {
   "cell_type": "code",
   "execution_count": 3,
   "id": "de7f20a5",
   "metadata": {},
   "outputs": [
    {
     "data": {
      "text/plain": [
       "False"
      ]
     },
     "execution_count": 3,
     "metadata": {},
     "output_type": "execute_result"
    }
   ],
   "source": [
    "#2. What are the three different types of Boolean operators?\n",
    "#Ans. The three basic boolean operators are: AND, OR, and NOT."
   ]
  },
  {
   "cell_type": "code",
   "execution_count": 36,
   "id": "6b1170f0",
   "metadata": {},
   "outputs": [],
   "source": [
    "#3. Make a list of each Boolean operator's truth tables (i.e. every possible combination of Boolean values for the operator and what it evaluate ).\n",
    "#Ans.\n",
    "True  and True is True.\n",
    "True  and False is False.\n",
    "False and True is False.\n",
    "False and False is False.\n",
    "\n",
    "True  or True is True.\n",
    "True  or False is True.\n",
    "False or True is True.\n",
    "False or False is False.\n",
    "\n",
    "  not True is False.\n",
    "  not False is True.\n"
   ]
  },
  {
   "cell_type": "code",
   "execution_count": 13,
   "id": "061ba741",
   "metadata": {},
   "outputs": [
    {
     "data": {
      "text/plain": [
       "False"
      ]
     },
     "execution_count": 13,
     "metadata": {},
     "output_type": "execute_result"
    }
   ],
   "source": [
    "#4. What are the values of the following expressions?\n",
    "#Ans.\n",
    "\n",
    "(5 > 4) and (3 == 5)"
   ]
  },
  {
   "cell_type": "code",
   "execution_count": 7,
   "id": "5a9553f5",
   "metadata": {},
   "outputs": [
    {
     "data": {
      "text/plain": [
       "False"
      ]
     },
     "execution_count": 7,
     "metadata": {},
     "output_type": "execute_result"
    }
   ],
   "source": [
    "not (5 > 4)"
   ]
  },
  {
   "cell_type": "code",
   "execution_count": 8,
   "id": "8906f70a",
   "metadata": {},
   "outputs": [
    {
     "data": {
      "text/plain": [
       "True"
      ]
     },
     "execution_count": 8,
     "metadata": {},
     "output_type": "execute_result"
    }
   ],
   "source": [
    "(5 > 4) or (3 == 5)"
   ]
  },
  {
   "cell_type": "code",
   "execution_count": 9,
   "id": "e7eff02b",
   "metadata": {},
   "outputs": [
    {
     "data": {
      "text/plain": [
       "False"
      ]
     },
     "execution_count": 9,
     "metadata": {},
     "output_type": "execute_result"
    }
   ],
   "source": [
    "not ((5 > 4) or (3 == 5))"
   ]
  },
  {
   "cell_type": "code",
   "execution_count": 10,
   "id": "51d48ff3",
   "metadata": {},
   "outputs": [
    {
     "data": {
      "text/plain": [
       "False"
      ]
     },
     "execution_count": 10,
     "metadata": {},
     "output_type": "execute_result"
    }
   ],
   "source": [
    "(True and True) and (True == False)"
   ]
  },
  {
   "cell_type": "code",
   "execution_count": 11,
   "id": "774afdb4",
   "metadata": {},
   "outputs": [
    {
     "data": {
      "text/plain": [
       "True"
      ]
     },
     "execution_count": 11,
     "metadata": {},
     "output_type": "execute_result"
    }
   ],
   "source": [
    "(not False) or (not True)"
   ]
  },
  {
   "cell_type": "code",
   "execution_count": 14,
   "id": "b0000be0",
   "metadata": {},
   "outputs": [
    {
     "data": {
      "text/plain": [
       "False"
      ]
     },
     "execution_count": 14,
     "metadata": {},
     "output_type": "execute_result"
    }
   ],
   "source": [
    "#5. What are the six comparison operators?\n",
    "#Ans.Python has six comparison operators: \n",
    "\n",
    "#1.less than ( < ),  \n",
    "b = 20\n",
    "b < 20"
   ]
  },
  {
   "cell_type": "code",
   "execution_count": 15,
   "id": "a91d8041",
   "metadata": {},
   "outputs": [
    {
     "data": {
      "text/plain": [
       "True"
      ]
     },
     "execution_count": 15,
     "metadata": {},
     "output_type": "execute_result"
    }
   ],
   "source": [
    "#2.less than or equal to ( <= )\n",
    "b <= 20"
   ]
  },
  {
   "cell_type": "code",
   "execution_count": 16,
   "id": "da50ebef",
   "metadata": {},
   "outputs": [
    {
     "data": {
      "text/plain": [
       "False"
      ]
     },
     "execution_count": 16,
     "metadata": {},
     "output_type": "execute_result"
    }
   ],
   "source": [
    "#3.greater than ( > )\n",
    "b > 20"
   ]
  },
  {
   "cell_type": "code",
   "execution_count": 17,
   "id": "61be4eff",
   "metadata": {},
   "outputs": [
    {
     "data": {
      "text/plain": [
       "True"
      ]
     },
     "execution_count": 17,
     "metadata": {},
     "output_type": "execute_result"
    }
   ],
   "source": [
    "#4.greater than or equal to ( >= )\n",
    "b >= 20"
   ]
  },
  {
   "cell_type": "code",
   "execution_count": 22,
   "id": "8b62fbea",
   "metadata": {},
   "outputs": [
    {
     "data": {
      "text/plain": [
       "True"
      ]
     },
     "execution_count": 22,
     "metadata": {},
     "output_type": "execute_result"
    }
   ],
   "source": [
    "#5.equal to ( == )\n",
    "b == 20"
   ]
  },
  {
   "cell_type": "code",
   "execution_count": 23,
   "id": "37ca3473",
   "metadata": {},
   "outputs": [
    {
     "data": {
      "text/plain": [
       "True"
      ]
     },
     "execution_count": 23,
     "metadata": {},
     "output_type": "execute_result"
    }
   ],
   "source": [
    "#6.and not equal to ( != )\n",
    "b != 19"
   ]
  },
  {
   "cell_type": "code",
   "execution_count": 29,
   "id": "a7d28c82",
   "metadata": {},
   "outputs": [
    {
     "data": {
      "text/plain": [
       "True"
      ]
     },
     "execution_count": 29,
     "metadata": {},
     "output_type": "execute_result"
    }
   ],
   "source": [
    "#6. How do you tell the difference between the equal to and assignment operators?Describe a condition and when you would use one.\n",
    "#Ans.\n",
    "#equal to \"==\" -> to compare both the side.\n",
    "#assignment operator \"=\"-> to assign a value.\n",
    "a = 10 #assignment operator\n",
    "b = 10\n",
    "a == b #equal to"
   ]
  },
  {
   "cell_type": "code",
   "execution_count": 37,
   "id": "cc09792b",
   "metadata": {},
   "outputs": [
    {
     "name": "stdout",
     "output_type": "stream",
     "text": [
      "ham\n",
      "spam\n",
      "spam\n"
     ]
    }
   ],
   "source": [
    "#7. Identify the three blocks in this code:\n",
    "spam = 0\n",
    "if spam == 10:\n",
    "    print('eggs') #-first block\n",
    "if spam > 5:\n",
    "    print('bacon') #-second block\n",
    "else:\n",
    "    print('ham') #-third block\n",
    "print('spam')\n",
    "print('spam')\n"
   ]
  },
  {
   "cell_type": "code",
   "execution_count": 48,
   "id": "68036e40",
   "metadata": {},
   "outputs": [
    {
     "name": "stdout",
     "output_type": "stream",
     "text": [
      "5\n",
      "Greetings\n"
     ]
    }
   ],
   "source": [
    "#8. Write code that prints Hello if 1 is stored in spam, prints Howdy if 2 is stored in spam, and prints Greetings! if anything else is stored in spam.\n",
    "#ans.\n",
    "spam =int(input())\n",
    "if spam == 1:\n",
    "    print('Hello')\n",
    "elif spam == 2:\n",
    "    print('Howdy')\n",
    "else:\n",
    "    print('Greetings') "
   ]
  },
  {
   "cell_type": "code",
   "execution_count": null,
   "id": "ab0f3fd0",
   "metadata": {},
   "outputs": [],
   "source": [
    "#9.If your programme is stuck in an endless loop, what keys you’ll press?\n",
    "#Ans. Interrupt the kernel. By pressing stop icon. or Ctrl + C."
   ]
  },
  {
   "cell_type": "code",
   "execution_count": 50,
   "id": "0cb5a5a7",
   "metadata": {},
   "outputs": [
    {
     "name": "stdout",
     "output_type": "stream",
     "text": [
      "Siya\n",
      "Shyam\n",
      "Ram\n",
      "Found the name Ram\n",
      "Loop is Terminated\n"
     ]
    }
   ],
   "source": [
    "#10. How can you tell the difference between break and continue?\n",
    "#Ans.The break statement will move the execution outside and just after a loop. The continue statement will move the execution to the start of the loop.\n",
    "my_list = ['Siya', 'Shyam', 'Ram', 'Daksh', 'Riya'] \n",
    "\n",
    "for i in range(len(my_list)):\n",
    "    print(my_list[i])\n",
    "    if my_list[i] == 'Ram':\n",
    "        print('Found the name Ram')\n",
    "        break\n",
    "        print('After break statement')\n",
    "\n",
    "print('Loop is Terminated')"
   ]
  },
  {
   "cell_type": "code",
   "execution_count": 51,
   "id": "7ed6c774",
   "metadata": {},
   "outputs": [
    {
     "name": "stdout",
     "output_type": "stream",
     "text": [
      "The Number is : 0\n",
      "The Number is : 1\n",
      "The Number is : 2\n",
      "The Number is : 3\n",
      "The Number is : 4\n",
      "The Number is : 5\n",
      "The Number is : 6\n",
      "The Number is : 8\n",
      "The Number is : 9\n"
     ]
    }
   ],
   "source": [
    "for i in range(10):    \n",
    "    if i == 7:\n",
    "        continue  \n",
    "    print(\"The Number is :\" , i)"
   ]
  },
  {
   "cell_type": "code",
   "execution_count": 2,
   "id": "6d970dfe",
   "metadata": {},
   "outputs": [
    {
     "name": "stdout",
     "output_type": "stream",
     "text": [
      "0\n",
      "1\n",
      "2\n",
      "3\n",
      "4\n",
      "5\n",
      "6\n",
      "7\n",
      "8\n",
      "9\n"
     ]
    }
   ],
   "source": [
    "#11. In a for loop, what is the difference between range(10), range(0, 10), and range(0, 10, 1)?\n",
    "#Ans. range(start, stop, step) ; start- (Optional) An integer to start counting from, defaults to 0. stop - An integer to stop the count at. step- (Optional) An integer that indicates the incremental value from start parameter value, defaults to 1.\n",
    "\n",
    "for i in range(10):\n",
    "    print(i)"
   ]
  },
  {
   "cell_type": "code",
   "execution_count": 7,
   "id": "9767383a",
   "metadata": {},
   "outputs": [
    {
     "name": "stdout",
     "output_type": "stream",
     "text": [
      "0\n",
      "1\n",
      "2\n",
      "3\n",
      "4\n",
      "5\n",
      "6\n",
      "7\n",
      "8\n",
      "9\n"
     ]
    }
   ],
   "source": [
    "for i in range(0,10): #0 at the start point is a default value instead we can use other value to get the range.\n",
    "    print(i)"
   ]
  },
  {
   "cell_type": "code",
   "execution_count": 8,
   "id": "c940c236",
   "metadata": {},
   "outputs": [
    {
     "name": "stdout",
     "output_type": "stream",
     "text": [
      "0\n",
      "1\n",
      "2\n",
      "3\n",
      "4\n",
      "5\n",
      "6\n",
      "7\n",
      "8\n",
      "9\n"
     ]
    }
   ],
   "source": [
    "for i in range(0,10,1): # again 1 is a default value that indicates the incremental value from start parameter value.\n",
    "    print(i)"
   ]
  },
  {
   "cell_type": "code",
   "execution_count": 34,
   "id": "0f418369",
   "metadata": {},
   "outputs": [
    {
     "name": "stdout",
     "output_type": "stream",
     "text": [
      "1\n",
      "2\n",
      "3\n",
      "4\n",
      "5\n",
      "6\n",
      "7\n",
      "8\n",
      "9\n",
      "10\n"
     ]
    }
   ],
   "source": [
    "# 12. Write a short program that prints the numbers 1 to 10 using a for loop. Then write an equivalent program that prints the numbers 1 to 10 using a while loop.\n",
    "for i in range(1,11):\n",
    "    print(i)\n",
    "    "
   ]
  },
  {
   "cell_type": "code",
   "execution_count": 32,
   "id": "296630e1",
   "metadata": {},
   "outputs": [
    {
     "name": "stdout",
     "output_type": "stream",
     "text": [
      "1\n",
      "2\n",
      "3\n",
      "4\n",
      "5\n",
      "6\n",
      "7\n",
      "8\n",
      "9\n",
      "10\n"
     ]
    }
   ],
   "source": [
    " i = 1\n",
    "while i in range(0,11):\n",
    "    print(i) \n",
    "    i = i + 1"
   ]
  },
  {
   "cell_type": "code",
   "execution_count": 33,
   "id": "34cd74b6",
   "metadata": {},
   "outputs": [],
   "source": [
    "#13. If you had a function named bacon() inside a module named spam, how would you call it after importing spam?\n",
    "#Ans. This function can be called with spam.bacon()."
   ]
  }
 ],
 "metadata": {
  "kernelspec": {
   "display_name": "Python 3 (ipykernel)",
   "language": "python",
   "name": "python3"
  },
  "language_info": {
   "codemirror_mode": {
    "name": "ipython",
    "version": 3
   },
   "file_extension": ".py",
   "mimetype": "text/x-python",
   "name": "python",
   "nbconvert_exporter": "python",
   "pygments_lexer": "ipython3",
   "version": "3.9.7"
  }
 },
 "nbformat": 4,
 "nbformat_minor": 5
}
