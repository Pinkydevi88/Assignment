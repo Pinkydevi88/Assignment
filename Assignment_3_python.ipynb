{
 "cells": [
  {
   "cell_type": "code",
   "execution_count": null,
   "id": "be60bd71",
   "metadata": {},
   "outputs": [],
   "source": [
    "'''1. Why are functions advantageous to have in your programs?\n",
    "Ans: Functions are reusable and easy to call anytime. No need to write the same code again and again instead we can write \n",
    "once and call it infinite times.\n",
    "\n",
    "2. When does the code in a function run: when it's specified or when it's called?\n",
    "Ans. When a function is called the program control jumps to that function definition and executes the statements inside the \n",
    "function body. After executing the body of the function, the program control jumps back to the part of the program which \n",
    "called the function, and resumes execution at that point.\n",
    "\n",
    "3. What statement creates a function?\n",
    "Ans. the def keyword is used for defining any function , specified a name followed by a colon \":\".\n",
    "Eg. def fuction():\n",
    "\n",
    "4. What is the difference between a function and a function call?\n",
    "Ans. A function is a set of code to achieve a particular result and a function call is to call that function anytime to \n",
    "achieve that task. ''"
   ]
  },
  {
   "cell_type": "code",
   "execution_count": 13,
   "id": "4fc86a74",
   "metadata": {},
   "outputs": [
    {
     "name": "stdout",
     "output_type": "stream",
     "text": [
      "Inside the function local total :  5\n",
      "Outside the function global total :  40\n"
     ]
    }
   ],
   "source": [
    "'''5. How many global scopes are there in a Python program? How many local scopes?\n",
    "Ans. Variables that are defined inside a function body have a local scope, and those defined outside have a global scope.\n",
    "Eg:'''\n",
    "\n",
    "Global = 40; # This is global variable.\n",
    "# Function definition is here\n",
    "def sum( var1, var2 ):\n",
    "   # Add both the parameters and return them.\"\n",
    "    local = var1 + var2 # Here total is local variable.\n",
    "    print(\"Inside the function local total : \", local)\n",
    "    return local\n",
    "\n",
    "# Now you can call sum function\n",
    "sum( 3, 2 );\n",
    "print(\"Outside the function global total : \", Global)"
   ]
  },
  {
   "cell_type": "code",
   "execution_count": null,
   "id": "9b1524c1",
   "metadata": {},
   "outputs": [],
   "source": [
    "\"\"\"6. What happens to variables in a local scope when the function call returns?\n",
    "Ans. When the execution of the function terminates (returns), the local variables are destroyed. Codelens helps you \n",
    "visualize this because the local variables disappear after the function returns.\n",
    "\n",
    "7. What is the concept of a return value? Is it possible to have a return value in an expression?\n",
    "Ans. The Python return keyword exits a function and instructs Python to continue executing the main program. The return \n",
    "keyword can send a value back to the main program. A value could be a string, a tuple, or any other object.Then, we can \n",
    "return the data to our main program, so we can use it outside our function.\n",
    "\n",
    "Yes, if you define a function with an explicit return statement that has an explicit return value, then you can use that\n",
    "return value in any expression.\n",
    "\n",
    "Eg: In[21]\"\"\""
   ]
  },
  {
   "cell_type": "code",
   "execution_count": 21,
   "id": "75532424",
   "metadata": {},
   "outputs": [
    {
     "data": {
      "text/plain": [
       "84"
      ]
     },
     "execution_count": 21,
     "metadata": {},
     "output_type": "execute_result"
    }
   ],
   "source": [
    "def return_42():\n",
    "    return 42  # An explicit return statement\n",
    "return_42()  # The caller code gets 42\n",
    "num = return_42()\n",
    "return_42() * 2"
   ]
  },
  {
   "cell_type": "code",
   "execution_count": 22,
   "id": "2f45cdde",
   "metadata": {},
   "outputs": [
    {
     "data": {
      "text/plain": [
       "42"
      ]
     },
     "execution_count": 22,
     "metadata": {},
     "output_type": "execute_result"
    }
   ],
   "source": [
    "return_42()"
   ]
  },
  {
   "cell_type": "code",
   "execution_count": null,
   "id": "22c3695c",
   "metadata": {},
   "outputs": [],
   "source": [
    "'''\n",
    "8. If a function does not have a return statement, what is the return value of a call to that function?\n",
    "Ans. None.\n",
    "\n",
    "9. How do you make a function variable refer to the global variable?\n",
    "Ans. If you want to refer to a global variable in a function, you can use the global keyword to declare which variables are\n",
    "global.\n",
    "\n",
    "10. What is the data type of None?\n",
    "Ans. The None keyword is used to define a null value, or no value at all. None is not the same as 0, False, or an empty \n",
    "string. None is a data type of its own (NoneType) and only None can be None.\n",
    "E.g: In[12] '''"
   ]
  },
  {
   "cell_type": "code",
   "execution_count": 12,
   "id": "3a8d2fc0",
   "metadata": {},
   "outputs": [
    {
     "name": "stdout",
     "output_type": "stream",
     "text": [
      "None\n"
     ]
    }
   ],
   "source": [
    "# Declaring a None variable\n",
    "var = None\n",
    "\n",
    "if var is None: # Checking if the variable is None\n",
    "  print(\"None\")\n",
    "else:\n",
    "  print(\"Not None\")"
   ]
  },
  {
   "cell_type": "code",
   "execution_count": 13,
   "id": "2927c975",
   "metadata": {},
   "outputs": [
    {
     "data": {
      "text/plain": [
       "NoneType"
      ]
     },
     "execution_count": 13,
     "metadata": {},
     "output_type": "execute_result"
    }
   ],
   "source": [
    "type(var)"
   ]
  },
  {
   "cell_type": "code",
   "execution_count": null,
   "id": "79936f67",
   "metadata": {},
   "outputs": [],
   "source": [
    "'''\n",
    "11. What does the sentence import areallyourpetsnamederic do?\n",
    "Ans. That import statement imports module named areallyourpetsnamederic.\n",
    " \n",
    "12. If you had a bacon() feature in a spam module, what would you call it after importing spam?\n",
    "Ans. spam.bacon() \n",
    "\n",
    "13. What can you do to save a programme from crashing if it encounters an error?\n",
    "Ans. Always use code inside a try and except statement. When it encounters an error, the control is passed to the except \n",
    "block, skipping the code in between. While running the program it should throw an error message instead of crashing the \n",
    "program.\n",
    "\n",
    "14. What is the purpose of the try clause? What is the purpose of the except clause?\n",
    "Ans. The Python try…except statement catches an exception. It is used to test code for an error which is written in the \n",
    "“try” statement. If an error is encountered, the contents of the “except” block are run.\n",
    "E.g: In[14]\n",
    "'''"
   ]
  },
  {
   "cell_type": "code",
   "execution_count": 14,
   "id": "60fde287",
   "metadata": {},
   "outputs": [
    {
     "name": "stdout",
     "output_type": "stream",
     "text": [
      "wrong division\n"
     ]
    }
   ],
   "source": [
    "try:\n",
    "    a/0\n",
    "    print(\"this is my program\")\n",
    "except:\n",
    "    print(\"wrong division\")"
   ]
  },
  {
   "cell_type": "code",
   "execution_count": null,
   "id": "a5413ee1",
   "metadata": {},
   "outputs": [],
   "source": []
  }
 ],
 "metadata": {
  "kernelspec": {
   "display_name": "Python 3 (ipykernel)",
   "language": "python",
   "name": "python3"
  },
  "language_info": {
   "codemirror_mode": {
    "name": "ipython",
    "version": 3
   },
   "file_extension": ".py",
   "mimetype": "text/x-python",
   "name": "python",
   "nbconvert_exporter": "python",
   "pygments_lexer": "ipython3",
   "version": "3.9.7"
  }
 },
 "nbformat": 4,
 "nbformat_minor": 5
}
