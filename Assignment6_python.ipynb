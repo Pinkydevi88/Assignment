{
 "cells": [
  {
   "cell_type": "markdown",
   "id": "9764b228",
   "metadata": {},
   "source": [
    "1. What are escape characters, and how do you use them?\n"
   ]
  },
  {
   "cell_type": "markdown",
   "id": "a72d4f94",
   "metadata": {},
   "source": [
    "<span style= \"color:orange\">Ans.In Python strings, the backslash \\ is a special character, also called the \"escape\" character.</span>"
   ]
  },
  {
   "cell_type": "code",
   "execution_count": 1,
   "id": "6a7a1bde",
   "metadata": {
    "scrolled": true
   },
   "outputs": [
    {
     "name": "stdout",
     "output_type": "stream",
     "text": [
      "apple orange pear\n",
      "apple\torange\tpear\n",
      "apple\n",
      "orange\n",
      "pear\n"
     ]
    }
   ],
   "source": [
    "print ('apple', 'orange', 'pear')\n",
    "print ('apple\\torange\\tpear')\n",
    "print ('apple\\norange\\npear')"
   ]
  },
  {
   "cell_type": "markdown",
   "id": "15275786",
   "metadata": {},
   "source": [
    "2. What do the escape characters n and t stand for?\n",
    "\n"
   ]
  },
  {
   "cell_type": "markdown",
   "id": "bb5ab213",
   "metadata": {},
   "source": [
    "<span style= \"color:orange\">Ans.</span>"
   ]
  },
  {
   "cell_type": "code",
   "execution_count": 2,
   "id": "c413993a",
   "metadata": {},
   "outputs": [
    {
     "name": "stdout",
     "output_type": "stream",
     "text": [
      "apple\torange\tpear\n",
      "apple\n",
      "orange\n",
      "pear\n"
     ]
    }
   ],
   "source": [
    "print ('apple\\torange\\tpear')\n",
    "print ('apple\\norange\\npear')"
   ]
  },
  {
   "cell_type": "markdown",
   "id": "045f1226",
   "metadata": {},
   "source": [
    "3. What is the way to include backslash characters in a string?\n",
    "\n"
   ]
  },
  {
   "cell_type": "markdown",
   "id": "6f832014",
   "metadata": {},
   "source": [
    "<span style= \"color:orange\">Ans.Use the syntax \"\\\\\" within the string literal to represent a single backslash.</span>"
   ]
  },
  {
   "cell_type": "code",
   "execution_count": 3,
   "id": "2998aad6",
   "metadata": {},
   "outputs": [
    {
     "name": "stdout",
     "output_type": "stream",
     "text": [
      "\\\n"
     ]
    }
   ],
   "source": [
    "text = \"\\\\\"\n",
    "print(text)"
   ]
  },
  {
   "cell_type": "markdown",
   "id": "7bc39cd5",
   "metadata": {},
   "source": [
    "4. The string \"Howl's Moving Castle\" is a correct value. Why isn't the single quote character in the word Howl's not escaped a problem?\n"
   ]
  },
  {
   "cell_type": "markdown",
   "id": "9de4e1b4",
   "metadata": {},
   "source": [
    "<span style= \"color:orange\">Ans.While in double quote it will not show any error because it is inside the quotes. but it will show error if we use single quote. Python will read the first pair of quote.\n",
    "</span>"
   ]
  },
  {
   "cell_type": "code",
   "execution_count": 4,
   "id": "6c6ecd99",
   "metadata": {},
   "outputs": [
    {
     "name": "stdout",
     "output_type": "stream",
     "text": [
      "Howl's Moving Castle Howl\"s Moving Castle\n"
     ]
    }
   ],
   "source": [
    "string= \"Howl's Moving Castle\" \n",
    "string2= 'Howl\"s Moving Castle'\n",
    "print(string ,string2)\n"
   ]
  },
  {
   "cell_type": "markdown",
   "id": "3ac35001",
   "metadata": {},
   "source": [
    "5. How do you write a string of newlines if you don't want to use the n character?\n"
   ]
  },
  {
   "cell_type": "markdown",
   "id": "bca61746",
   "metadata": {},
   "source": [
    "<span style= \"color:orange\">Ans.</span>"
   ]
  },
  {
   "cell_type": "code",
   "execution_count": 5,
   "id": "34f301f9",
   "metadata": {},
   "outputs": [
    {
     "name": "stdout",
     "output_type": "stream",
     "text": [
      "This is an assignment six \n",
      " of python practice\n"
     ]
    }
   ],
   "source": [
    "print(\"This is an assignment six \\n of python practice\" )"
   ]
  },
  {
   "cell_type": "markdown",
   "id": "7235cc22",
   "metadata": {},
   "source": [
    "6. What are the values of the given expressions?\n",
    "'Hello, world!'[1]\n",
    "'Hello, world!'[0:5]\n",
    "'Hello, world!'[:5]\n",
    "'Hello, world!'[3:]\n"
   ]
  },
  {
   "cell_type": "markdown",
   "id": "98a2caa6",
   "metadata": {},
   "source": [
    "<span style= \"color:orange\">Ans.</span>"
   ]
  },
  {
   "cell_type": "code",
   "execution_count": 6,
   "id": "3198c209",
   "metadata": {},
   "outputs": [
    {
     "data": {
      "text/plain": [
       "'e'"
      ]
     },
     "execution_count": 6,
     "metadata": {},
     "output_type": "execute_result"
    }
   ],
   "source": [
    "'Hello, world!'[1] "
   ]
  },
  {
   "cell_type": "code",
   "execution_count": 7,
   "id": "abff0fee",
   "metadata": {
    "scrolled": true
   },
   "outputs": [
    {
     "data": {
      "text/plain": [
       "'Hello'"
      ]
     },
     "execution_count": 7,
     "metadata": {},
     "output_type": "execute_result"
    }
   ],
   "source": [
    "'Hello, world!'[0:5] \n"
   ]
  },
  {
   "cell_type": "code",
   "execution_count": 8,
   "id": "c1050a32",
   "metadata": {},
   "outputs": [
    {
     "data": {
      "text/plain": [
       "'Hello'"
      ]
     },
     "execution_count": 8,
     "metadata": {},
     "output_type": "execute_result"
    }
   ],
   "source": [
    "'Hello, world!'[:5] \n"
   ]
  },
  {
   "cell_type": "code",
   "execution_count": 9,
   "id": "67010b00",
   "metadata": {},
   "outputs": [
    {
     "data": {
      "text/plain": [
       "'lo, world!'"
      ]
     },
     "execution_count": 9,
     "metadata": {},
     "output_type": "execute_result"
    }
   ],
   "source": [
    "'Hello, world!'[3:]"
   ]
  },
  {
   "cell_type": "markdown",
   "id": "0042babe",
   "metadata": {},
   "source": [
    "\n",
    "7. What are the values of the following expressions?\n",
    "'Hello'.upper()\n",
    "'Hello'.upper().isupper()\n",
    "'Hello'.upper().lower()\n"
   ]
  },
  {
   "cell_type": "markdown",
   "id": "6288e303",
   "metadata": {},
   "source": [
    "<span style= \"color:orange\">Ans.</span>"
   ]
  },
  {
   "cell_type": "code",
   "execution_count": 10,
   "id": "9a7bb3ce",
   "metadata": {},
   "outputs": [
    {
     "data": {
      "text/plain": [
       "'HELLO'"
      ]
     },
     "execution_count": 10,
     "metadata": {},
     "output_type": "execute_result"
    }
   ],
   "source": [
    "'Hello'.upper() "
   ]
  },
  {
   "cell_type": "code",
   "execution_count": 11,
   "id": "72bb296e",
   "metadata": {},
   "outputs": [
    {
     "data": {
      "text/plain": [
       "True"
      ]
     },
     "execution_count": 11,
     "metadata": {},
     "output_type": "execute_result"
    }
   ],
   "source": [
    "'Hello'.upper().isupper() "
   ]
  },
  {
   "cell_type": "code",
   "execution_count": 12,
   "id": "ef51c6fe",
   "metadata": {},
   "outputs": [
    {
     "data": {
      "text/plain": [
       "'hello'"
      ]
     },
     "execution_count": 12,
     "metadata": {},
     "output_type": "execute_result"
    }
   ],
   "source": [
    "'Hello'.upper().lower()"
   ]
  },
  {
   "cell_type": "markdown",
   "id": "23195142",
   "metadata": {},
   "source": [
    "8. What are the values of the following expressions?\n",
    "'Remember, remember, the fifth of July.'.split()\n",
    "'-'.join('There can only one.'.split())\n"
   ]
  },
  {
   "cell_type": "markdown",
   "id": "152aaac9",
   "metadata": {},
   "source": [
    "<span style= \"color:orange\">Ans.</span>"
   ]
  },
  {
   "cell_type": "code",
   "execution_count": 13,
   "id": "13833dec",
   "metadata": {},
   "outputs": [
    {
     "data": {
      "text/plain": [
       "['Remember,', 'remember,', 'the', 'fifth', 'of', 'July.']"
      ]
     },
     "execution_count": 13,
     "metadata": {},
     "output_type": "execute_result"
    }
   ],
   "source": [
    "'Remember, remember, the fifth of July.'.split() "
   ]
  },
  {
   "cell_type": "code",
   "execution_count": 14,
   "id": "2d5cb72e",
   "metadata": {},
   "outputs": [
    {
     "data": {
      "text/plain": [
       "'There-can-only-one.'"
      ]
     },
     "execution_count": 14,
     "metadata": {},
     "output_type": "execute_result"
    }
   ],
   "source": [
    "'-'.join('There can only one.'.split())"
   ]
  },
  {
   "cell_type": "markdown",
   "id": "9ec125b3",
   "metadata": {},
   "source": [
    "9. What are the methods for right-justifying, left-justifying, and centering a string?\n"
   ]
  },
  {
   "cell_type": "markdown",
   "id": "61d92609",
   "metadata": {},
   "source": [
    "<span style= \"color:orange\">Ans.</span>"
   ]
  },
  {
   "cell_type": "code",
   "execution_count": 15,
   "id": "6f8c59ac",
   "metadata": {},
   "outputs": [
    {
     "name": "stdout",
     "output_type": "stream",
     "text": [
      "DataScience@@@@\n",
      "@@@@DataScience\n",
      "@@DataScience@@\n"
     ]
    }
   ],
   "source": [
    "input_string = 'DataScience'\n",
    "size = 15\n",
    "fill_char = '@'\n",
    "print(input_string.ljust(size, fill_char)) \n",
    "print(input_string.rjust(size, fill_char)) \n",
    "print(input_string.center(size, fill_char)) "
   ]
  },
  {
   "cell_type": "markdown",
   "id": "10621cea",
   "metadata": {},
   "source": [
    "10. What is the best way to remove whitespace characters from the start or end?"
   ]
  },
  {
   "cell_type": "markdown",
   "id": "4e0065a7",
   "metadata": {},
   "source": [
    "<span style= \"color:orange\">Ans.</span>"
   ]
  },
  {
   "cell_type": "code",
   "execution_count": 16,
   "id": "b7bd1929",
   "metadata": {},
   "outputs": [
    {
     "name": "stdout",
     "output_type": "stream",
     "text": [
      "Full stack  Data  Science           \n",
      "             Full stack  Data  Science\n"
     ]
    }
   ],
   "source": [
    "input = '             Full stack  Data  Science           ' \n",
    "print(input.lstrip())\n",
    "print(input.rstrip())"
   ]
  }
 ],
 "metadata": {
  "kernelspec": {
   "display_name": "Python 3 (ipykernel)",
   "language": "python",
   "name": "python3"
  },
  "language_info": {
   "codemirror_mode": {
    "name": "ipython",
    "version": 3
   },
   "file_extension": ".py",
   "mimetype": "text/x-python",
   "name": "python",
   "nbconvert_exporter": "python",
   "pygments_lexer": "ipython3",
   "version": "3.9.12"
  }
 },
 "nbformat": 4,
 "nbformat_minor": 5
}
