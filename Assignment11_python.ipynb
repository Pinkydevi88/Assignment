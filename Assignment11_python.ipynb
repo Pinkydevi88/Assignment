{
 "cells": [
  {
   "cell_type": "markdown",
   "id": "1ba00a6a",
   "metadata": {},
   "source": [
    "1. Create an assert statement that throws an AssertionError if the variable spam is a negative integer."
   ]
  },
  {
   "cell_type": "markdown",
   "id": "307d57d4",
   "metadata": {},
   "source": [
    "<span style=\"color:greenyellow\">Ans.</span>"
   ]
  },
  {
   "cell_type": "code",
   "execution_count": 1,
   "id": "8b06c776",
   "metadata": {},
   "outputs": [
    {
     "ename": "AssertionError",
     "evalue": "number greater than 0 expected",
     "output_type": "error",
     "traceback": [
      "\u001b[1;31m---------------------------------------------------------------------------\u001b[0m",
      "\u001b[1;31mAssertionError\u001b[0m                            Traceback (most recent call last)",
      "Input \u001b[1;32mIn [1]\u001b[0m, in \u001b[0;36m<cell line: 2>\u001b[1;34m()\u001b[0m\n\u001b[0;32m      1\u001b[0m spam \u001b[38;5;241m=\u001b[39m \u001b[38;5;241m-\u001b[39m\u001b[38;5;241m5\u001b[39m\n\u001b[1;32m----> 2\u001b[0m \u001b[38;5;28;01massert\u001b[39;00m spam \u001b[38;5;241m>\u001b[39m\u001b[38;5;241m=\u001b[39m \u001b[38;5;241m10\u001b[39m, \u001b[38;5;124mf\u001b[39m\u001b[38;5;124m\"\u001b[39m\u001b[38;5;124mnumber greater than 0 expected\u001b[39m\u001b[38;5;124m\"\u001b[39m\n",
      "\u001b[1;31mAssertionError\u001b[0m: number greater than 0 expected"
     ]
    }
   ],
   "source": [
    "spam = -5\n",
    "assert spam >= 10, f\"number greater than 0 expected\""
   ]
  },
  {
   "cell_type": "markdown",
   "id": "f9de3197",
   "metadata": {},
   "source": [
    "2. Write an assert statement that triggers an AssertionError if the variables eggs and bacon contain strings that are the same as each other, even if their cases are different (that is, 'hello' and 'hello' are considered the same, and 'goodbye' and 'GOODbye' are also considered the same)."
   ]
  },
  {
   "cell_type": "markdown",
   "id": "679a7ea1",
   "metadata": {},
   "source": [
    "<span style=\"color:greenyellow\">Ans.</span>"
   ]
  },
  {
   "cell_type": "code",
   "execution_count": 2,
   "id": "ceb4aa9b",
   "metadata": {},
   "outputs": [
    {
     "ename": "AssertionError",
     "evalue": "The eggs and bacon variables are the same!",
     "output_type": "error",
     "traceback": [
      "\u001b[1;31m---------------------------------------------------------------------------\u001b[0m",
      "\u001b[1;31mAssertionError\u001b[0m                            Traceback (most recent call last)",
      "Input \u001b[1;32mIn [2]\u001b[0m, in \u001b[0;36m<cell line: 3>\u001b[1;34m()\u001b[0m\n\u001b[0;32m      1\u001b[0m eggs\u001b[38;5;241m=\u001b[39m\u001b[38;5;124m'\u001b[39m\u001b[38;5;124mgoodbye\u001b[39m\u001b[38;5;124m'\u001b[39m\n\u001b[0;32m      2\u001b[0m bacon\u001b[38;5;241m=\u001b[39m\u001b[38;5;124m'\u001b[39m\u001b[38;5;124mGOODbye\u001b[39m\u001b[38;5;124m'\u001b[39m\n\u001b[1;32m----> 3\u001b[0m \u001b[38;5;28;01massert\u001b[39;00m eggs\u001b[38;5;241m.\u001b[39mlower() \u001b[38;5;241m!=\u001b[39m bacon\u001b[38;5;241m.\u001b[39mlower(), \u001b[38;5;124mf\u001b[39m\u001b[38;5;124m'\u001b[39m\u001b[38;5;124mThe eggs and bacon variables are the same!\u001b[39m\u001b[38;5;124m'\u001b[39m\n",
      "\u001b[1;31mAssertionError\u001b[0m: The eggs and bacon variables are the same!"
     ]
    }
   ],
   "source": [
    "eggs='goodbye'\n",
    "bacon='GOODbye'\n",
    "assert eggs.lower() != bacon.lower(), f'The eggs and bacon variables are the same!' \n",
    "#or assert eggs.upper() != bacon.upper(), f'The eggs and bacon variables are the same!'"
   ]
  },
  {
   "cell_type": "markdown",
   "id": "d079fd18",
   "metadata": {},
   "source": [
    "3. Create an assert statement that throws an AssertionError every time."
   ]
  },
  {
   "cell_type": "markdown",
   "id": "2160eb36",
   "metadata": {},
   "source": [
    "<span style=\"color:greenyellow\">Ans.</span>"
   ]
  },
  {
   "cell_type": "code",
   "execution_count": 3,
   "id": "27f47593",
   "metadata": {},
   "outputs": [
    {
     "ename": "AssertionError",
     "evalue": "This assertion always triggers.",
     "output_type": "error",
     "traceback": [
      "\u001b[1;31m---------------------------------------------------------------------------\u001b[0m",
      "\u001b[1;31mAssertionError\u001b[0m                            Traceback (most recent call last)",
      "Input \u001b[1;32mIn [3]\u001b[0m, in \u001b[0;36m<cell line: 1>\u001b[1;34m()\u001b[0m\n\u001b[1;32m----> 1\u001b[0m \u001b[38;5;28;01massert\u001b[39;00m \u001b[38;5;28;01mFalse\u001b[39;00m, \u001b[38;5;124mf\u001b[39m\u001b[38;5;124m'\u001b[39m\u001b[38;5;124mThis assertion always triggers.\u001b[39m\u001b[38;5;124m'\u001b[39m\n",
      "\u001b[1;31mAssertionError\u001b[0m: This assertion always triggers."
     ]
    }
   ],
   "source": [
    "assert False, f'This assertion always triggers.'"
   ]
  },
  {
   "cell_type": "markdown",
   "id": "bb4d72d6",
   "metadata": {},
   "source": [
    "4. What are the two lines that must be present in your software in order to call logging.debug()?\n"
   ]
  },
  {
   "cell_type": "markdown",
   "id": "aed038fd",
   "metadata": {},
   "source": [
    "<span style=\"color:greenyellow\">Ans.To be able to call logging.debug(), you must have these two lines at the start of your program:</span>"
   ]
  },
  {
   "cell_type": "code",
   "execution_count": 4,
   "id": "3e8ca8f6",
   "metadata": {},
   "outputs": [],
   "source": [
    "import logging\n",
    "logging.basicConfig(level=logging.DEBUG, format=' %(asctime)s - %(levelname)s - %(message)s')"
   ]
  },
  {
   "cell_type": "markdown",
   "id": "9b0e2269",
   "metadata": {},
   "source": [
    "5. What are the two lines that your program must have in order to have logging.debug() send a logging message to a file named programLog.txt?\n"
   ]
  },
  {
   "cell_type": "markdown",
   "id": "c71bc099",
   "metadata": {},
   "source": [
    "<span style=\"color:greenyellow\">Ans.To be able to send logging messages to a file named programLog.txt with logging.debug(), you must have these two lines at the start of your program:</span>\n"
   ]
  },
  {
   "cell_type": "code",
   "execution_count": 5,
   "id": "19506f5f",
   "metadata": {},
   "outputs": [],
   "source": [
    "import logging\n",
    "logging.basicConfig(filename='programLog.txt', level=logging.DEBUG,\n",
    "format=' %(asctime)s - %(levelname)s - %(message)s')"
   ]
  },
  {
   "cell_type": "markdown",
   "id": "91a9891c",
   "metadata": {},
   "source": [
    "6. What are the five levels of logging?\n"
   ]
  },
  {
   "cell_type": "markdown",
   "id": "b54232f2",
   "metadata": {},
   "source": [
    "<span style=\"color:greenyellow\">Ans.DEBUG, INFO, WARNING, ERROR, and CRITICAL</span>"
   ]
  },
  {
   "cell_type": "markdown",
   "id": "5e385fe6",
   "metadata": {},
   "source": [
    "7. What line of code would you add to your software to disable all logging messages?\n"
   ]
  },
  {
   "cell_type": "markdown",
   "id": "f62b7595",
   "metadata": {},
   "source": [
    "<span style=\"color:greenyellow\">Ans.logging.disable(logging.CRITICAL)</span>"
   ]
  },
  {
   "cell_type": "markdown",
   "id": "87c171e1",
   "metadata": {},
   "source": [
    "8.Why is using logging messages better than using print() to display the same message?\n"
   ]
  },
  {
   "cell_type": "markdown",
   "id": "9c1d8b9f",
   "metadata": {},
   "source": [
    "<span style=\"color:greenyellow\">Ans.You can disable logging messages without removing the logging function calls. You can selectively disable lower-level logging messages. You can create logging messages. Logging messages provides a timestamp.</span>"
   ]
  },
  {
   "cell_type": "markdown",
   "id": "3691c8ab",
   "metadata": {},
   "source": [
    "9. What are the differences between the Step Over, Step In, and Step Out buttons in the debugger?\n"
   ]
  },
  {
   "cell_type": "markdown",
   "id": "2a3bb543",
   "metadata": {},
   "source": [
    "<span style=\"color:greenyellow\">Ans.Step In, To stop on each statement when you're debugging, use Debug > Step Into, or select F11.<br>Step Over, If the current line contains a function call, Step Over runs the code and then suspends execution at the first line of code after the called function returns,select F11.<br>\tStep Out , It continues running code and suspends execution when the current function returns. The debugger skips through the current function , select Shift+F11.</span>"
   ]
  },
  {
   "cell_type": "markdown",
   "id": "1478dea6",
   "metadata": {},
   "source": [
    "10.After you click Continue, when will the debugger stop ?\n"
   ]
  },
  {
   "cell_type": "markdown",
   "id": "6b6a0484",
   "metadata": {},
   "source": [
    "<span style=\"color:greenyellow\">Ans.When Continue is clicked program is resumed to execute until all program completes normally and then debbugger stop.</span>"
   ]
  },
  {
   "cell_type": "markdown",
   "id": "eaabeb01",
   "metadata": {},
   "source": [
    "11. What is the concept of a breakpoint?"
   ]
  },
  {
   "cell_type": "markdown",
   "id": "9ee4a582",
   "metadata": {},
   "source": [
    "<span style=\"color:greenyellow\">Ans.To run directly to a specific location or function when you know exactly what code you want to inspect or if you know where you want to start debugging.You can set the debugger to run until it reaches a specified function.</span>"
   ]
  }
 ],
 "metadata": {
  "kernelspec": {
   "display_name": "Python 3 (ipykernel)",
   "language": "python",
   "name": "python3"
  },
  "language_info": {
   "codemirror_mode": {
    "name": "ipython",
    "version": 3
   },
   "file_extension": ".py",
   "mimetype": "text/x-python",
   "name": "python",
   "nbconvert_exporter": "python",
   "pygments_lexer": "ipython3",
   "version": "3.9.12"
  }
 },
 "nbformat": 4,
 "nbformat_minor": 5
}
