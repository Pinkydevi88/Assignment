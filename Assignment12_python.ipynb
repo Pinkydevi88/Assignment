{
 "cells": [
  {
   "cell_type": "markdown",
   "id": "0fd326d4",
   "metadata": {},
   "source": [
    "1. In what modes should the PdfFileReader() and PdfFileWriter() File objects will be opened?\n"
   ]
  },
  {
   "cell_type": "markdown",
   "id": "82b01336",
   "metadata": {},
   "source": [
    "<span style=\"color:violet\">Ans.Read-binary ('rb') for PdfFileReader() and write-binary ('wb') for PdfFileWriter().</span>"
   ]
  },
  {
   "cell_type": "markdown",
   "id": "172981a8",
   "metadata": {},
   "source": [
    "2. From a PdfFileReader object, how do you get a Page object for page 5?\n"
   ]
  },
  {
   "cell_type": "markdown",
   "id": "be3ebbbd",
   "metadata": {},
   "source": [
    "<span style=\"color:violet\">Ans.pageObj = pdfFileReader.getPage(4)</span>"
   ]
  },
  {
   "cell_type": "markdown",
   "id": "6d71512e",
   "metadata": {},
   "source": [
    "3. What PdfFileReader variable stores the number of pages in the PDF document?\n"
   ]
  },
  {
   "cell_type": "markdown",
   "id": "0d6c0ec8",
   "metadata": {},
   "source": [
    "<span style=\"color:violet\">Ans.The total number of pages in the document is stored in the numPages attribute of a PdfFileReader object.</span>"
   ]
  },
  {
   "cell_type": "markdown",
   "id": "c31b4122",
   "metadata": {},
   "source": [
    "4. If a PdfFileReader object’s PDF is encrypted with the password swordfish, what must you do before you can obtain Page objects from it?\n"
   ]
  },
  {
   "cell_type": "markdown",
   "id": "08208017",
   "metadata": {},
   "source": [
    "<span style=\"color:violet\">Ans.All PdfFileReader objects have an isEncrypted attribute that is True if the PDF is encrypted and False if it isn’t. Any attempt to call a function that reads the file before it has been decrypted with the correct password will result in an error.<br>\n",
    "   \n",
    "pdfReader.decrypt('swordfish')</span>"
   ]
  },
  {
   "cell_type": "markdown",
   "id": "97c3ecbe",
   "metadata": {},
   "source": [
    "5. What methods do you use to rotate a page?\n"
   ]
  },
  {
   "cell_type": "markdown",
   "id": "32bb5d8b",
   "metadata": {},
   "source": [
    "<span style=\"color:violet\">Ans.The pages of a PDF can also be rotated in 90-degree increments with the rotateClockwise() and rotateCounterClockwise() methods. Pass one of the integers 90, 180, or 270 to these methods.<br>\n",
    "    \n",
    "page.rotateClockwise(90)</span>"
   ]
  },
  {
   "cell_type": "markdown",
   "id": "e842e678",
   "metadata": {},
   "source": [
    "6. What is the difference between a Run object and a Paragraph object?\n"
   ]
  },
  {
   "cell_type": "markdown",
   "id": "82220b3b",
   "metadata": {},
   "source": [
    "<span style=\"color:violet\">Ans.Each Paragraph object has a runs attribute that is a list of Run objects. Run objects also have a text attribute, containing just the text in that particular run. Calling len() on a Paragraph object tells us that how many Run objects are there.<br>\n",
    "    In simple run objects show different type of styles available in paragraph object.</span>"
   ]
  },
  {
   "cell_type": "markdown",
   "id": "5867e73c",
   "metadata": {},
   "source": [
    "7. How do you obtain a list of Paragraph objects for a Document object that’s stored in a variable named doc?\n"
   ]
  },
  {
   "cell_type": "markdown",
   "id": "f20c1e59",
   "metadata": {},
   "source": [
    "<span style=\"color:violet\">Ans.<br>\n",
    "doc = docx.Document('xyz.docx')<br>\n",
    "doc.paragraphs</span>"
   ]
  },
  {
   "cell_type": "markdown",
   "id": "811a62bb",
   "metadata": {},
   "source": [
    "8. What type of object has bold, underline, italic, strike, and outline variables?\n"
   ]
  },
  {
   "cell_type": "markdown",
   "id": "7d6120bc",
   "metadata": {},
   "source": [
    "<span style=\"color:violet\">Ans.Run Objects</span>"
   ]
  },
  {
   "cell_type": "markdown",
   "id": "bf87b499",
   "metadata": {},
   "source": [
    "9. What is the difference between False, True, and None for the bold variable?\n"
   ]
  },
  {
   "cell_type": "markdown",
   "id": "f7f44211",
   "metadata": {},
   "source": [
    "<span style=\"color:violet\">Ans.Runs can be further styled using bold vriable(text attributes). Each attribute can be set to one of three values:<br>True -the attribute is always enabled, no matter what other styles are applied to the run, bolded. <br>False -the attribute is always disabled,not bolded or<br> None-defaults to whatever the run’s style is set to ,Default</span>"
   ]
  },
  {
   "cell_type": "markdown",
   "id": "9fb0c22a",
   "metadata": {},
   "source": [
    "10. How do you create a Document object for a new Word document?\n"
   ]
  },
  {
   "cell_type": "markdown",
   "id": "b6dbb4cc",
   "metadata": {},
   "source": [
    "<span style=\"color:violet\">Ans.</span>"
   ]
  },
  {
   "cell_type": "code",
   "execution_count": 2,
   "id": "b52138bd",
   "metadata": {},
   "outputs": [
    {
     "name": "stdout",
     "output_type": "stream",
     "text": [
      "Collecting python-docx\n",
      "  Downloading python-docx-0.8.11.tar.gz (5.6 MB)\n",
      "Requirement already satisfied: lxml>=2.3.2 in c:\\users\\jijopinks\\anaconda3\\lib\\site-packages (from python-docx) (4.8.0)\n",
      "Building wheels for collected packages: python-docx\n",
      "  Building wheel for python-docx (setup.py): started\n",
      "  Building wheel for python-docx (setup.py): finished with status 'done'\n",
      "  Created wheel for python-docx: filename=python_docx-0.8.11-py3-none-any.whl size=184507 sha256=8d27d690bd3296de46fbebbe0b09176145732763ba0a6fedcd1dd326d6fd9aa9\n",
      "  Stored in directory: c:\\users\\jijopinks\\appdata\\local\\pip\\cache\\wheels\\83\\8b\\7c\\09ae60c42c7ba4ed2dddaf2b8b9186cb105255856d6ed3dba5\n",
      "Successfully built python-docx\n",
      "Installing collected packages: python-docx\n",
      "Successfully installed python-docx-0.8.11\n"
     ]
    }
   ],
   "source": [
    "!pip install python-docx\n",
    "import docx\n",
    "doc = docx.Document()\n",
    "doc.add_paragraph('Full stack Data Science Batch!')\n",
    "doc.save('fsds.docx')"
   ]
  },
  {
   "cell_type": "markdown",
   "id": "fb88e12a",
   "metadata": {},
   "source": [
    "11. How do you add a paragraph with the text 'Hello, there!' to a Document object stored in a variable named doc?\n"
   ]
  },
  {
   "cell_type": "markdown",
   "id": "73a66bc3",
   "metadata": {},
   "source": [
    "<span style=\"color:violet\">Ans.</span>"
   ]
  },
  {
   "cell_type": "code",
   "execution_count": 6,
   "id": "b7610c02",
   "metadata": {},
   "outputs": [],
   "source": [
    "doc.add_paragraph('Hello there!')\n",
    "doc.save('fsds.docx')"
   ]
  },
  {
   "cell_type": "markdown",
   "id": "318b8752",
   "metadata": {},
   "source": [
    "12. What integers represent the levels of headings available in Word documents?"
   ]
  },
  {
   "cell_type": "markdown",
   "id": "43546f2f",
   "metadata": {},
   "source": [
    "<span style=\"color:violet\">Ans.The arguments to add_heading() are a string of the heading text and an integer from 0 to 4. <br>The integer 0 makes the heading the Title style, which is used for the top of the document.<br> Integers 1 to 4 are for various heading levels, with 1 being the main heading and 4 the lowest subheading. </span>"
   ]
  }
 ],
 "metadata": {
  "kernelspec": {
   "display_name": "Python 3 (ipykernel)",
   "language": "python",
   "name": "python3"
  },
  "language_info": {
   "codemirror_mode": {
    "name": "ipython",
    "version": 3
   },
   "file_extension": ".py",
   "mimetype": "text/x-python",
   "name": "python",
   "nbconvert_exporter": "python",
   "pygments_lexer": "ipython3",
   "version": "3.9.12"
  }
 },
 "nbformat": 4,
 "nbformat_minor": 5
}
