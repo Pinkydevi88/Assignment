{
 "cells": [
  {
   "cell_type": "markdown",
   "id": "105653eb",
   "metadata": {},
   "source": [
    "1. What advantages do Excel spreadsheets have over CSV spreadsheets?"
   ]
  },
  {
   "cell_type": "markdown",
   "id": "87308798",
   "metadata": {},
   "source": [
    "<span style=\"color:gray\">Ans.Both Excel vs CSV have their limitations and advantages and can work in tandem with each other. In a way, they complement each other, and their workings are quite different from each other. Most people would find that Excel is quite sufficient for the majority of spreadsheet needs. There is really no need to use CSV unless you have some specialized application that is irreplaceable and does not recognize the data in an Excel file.</span>"
   ]
  },
  {
   "cell_type": "markdown",
   "id": "0a9bfbc1",
   "metadata": {},
   "source": [
    "2.What do you pass to csv.reader() and csv.writer() to create reader and writer objects?\n"
   ]
  },
  {
   "cell_type": "markdown",
   "id": "85a7f868",
   "metadata": {},
   "source": [
    "<span style=\"color:gray\">CSV module provides the functions reader and writer, which work in a sequential manner.<br>\n",
    "The csv.reader(csvfile, dialect='excel', **fmtparams) method can be used to extract data from a file that contains CSV-formatted data.<br>\n",
    "The csv.writer(csvfile, dialect='excel', **fmtparams) method, which is similar to the reader method we described above, is a method that permits us to write data to a file in CSV format.\n",
    "</span>"
   ]
  },
  {
   "cell_type": "markdown",
   "id": "43291497",
   "metadata": {},
   "source": [
    "3. What modes do File objects for reader and writer objects need to be opened in?\n"
   ]
  },
  {
   "cell_type": "markdown",
   "id": "afe0a7ae",
   "metadata": {},
   "source": [
    "<span style=\"color:gray\">Ans.<br>\n",
    "open(filename, mode='r') to read<br>\n",
    "open(filename, mode='w') to write </span>"
   ]
  },
  {
   "cell_type": "markdown",
   "id": "3f3c226d",
   "metadata": {},
   "source": [
    "4. What method takes a list argument and writes it to a CSV file?\n"
   ]
  },
  {
   "cell_type": "markdown",
   "id": "fdc0dca9",
   "metadata": {},
   "source": [
    "<span style=\"color:gray\">Ans.</span>"
   ]
  },
  {
   "cell_type": "code",
   "execution_count": 1,
   "id": "d7639237",
   "metadata": {},
   "outputs": [],
   "source": [
    "import csv\n",
    "persons=[('pinkss',22,45),('Rajan',21,56),('Krish',20,60)]\n",
    "csvfile=open('persons.csv','w', newline='')\n",
    "obj=csv.writer(csvfile)\n",
    "for person in persons:\n",
    "    obj.writerow(person) #writerow is used to write list argument.\n",
    "csvfile.close()"
   ]
  },
  {
   "cell_type": "markdown",
   "id": "27017084",
   "metadata": {},
   "source": [
    "5. What do the keyword arguments delimiter and line terminator do?\n"
   ]
  },
  {
   "cell_type": "markdown",
   "id": "49eb7a99",
   "metadata": {},
   "source": [
    "<span style=\"color:gray\">Ans.The delimiter is the character that appears between cells on a row. By default, the delimiter for a CSV file is a comma. The line terminator is the character that comes at the end of a row. By default, the line terminator is a newline.<br>\n",
    "Passing delimeter='\\t' and lineterminator='\\n\\n', it changes the character between cells to a tab and the character between rows to two newlines. </span>"
   ]
  },
  {
   "cell_type": "markdown",
   "id": "6bb5d056",
   "metadata": {},
   "source": [
    "6. What function takes a string of JSON data and returns a Python data structure?\n"
   ]
  },
  {
   "cell_type": "markdown",
   "id": "e3112c52",
   "metadata": {},
   "source": [
    "<span style=\"color:gray\">Ans.JSON, or JavaScript Object Notation, is a format that uses text to store data objects. In other words, it is data structures for representing objects as text.<br>\n",
    "JSON data from strings is loads. Note that it is read as ‘load-s’. The ‘s’ stands for ‘string’ here. The other method load is used when the data is in bytes. </span>"
   ]
  },
  {
   "cell_type": "code",
   "execution_count": 2,
   "id": "7aab40a2",
   "metadata": {},
   "outputs": [
    {
     "name": "stdout",
     "output_type": "stream",
     "text": [
      "<class 'str'>\n",
      "<class 'dict'>\n"
     ]
    }
   ],
   "source": [
    "import json\n",
    "country = '{\"name\": \"United States\", \"population\": 331002651}'\n",
    "country_dict = json.loads(country)\n",
    "print(type(country))\n",
    "print(type(country_dict))"
   ]
  },
  {
   "cell_type": "code",
   "execution_count": 3,
   "id": "068b24c0",
   "metadata": {
    "scrolled": true
   },
   "outputs": [
    {
     "data": {
      "text/plain": [
       "'United States'"
      ]
     },
     "execution_count": 3,
     "metadata": {},
     "output_type": "execute_result"
    }
   ],
   "source": [
    "country_dict['name']"
   ]
  },
  {
   "cell_type": "markdown",
   "id": "5fee448a",
   "metadata": {},
   "source": [
    "7. What function takes a Python data structure and returns a string of JSON data?"
   ]
  },
  {
   "cell_type": "markdown",
   "id": "652a94aa",
   "metadata": {},
   "source": [
    "<span style=\"color:gray\">Ans.</span>"
   ]
  },
  {
   "cell_type": "code",
   "execution_count": 4,
   "id": "b7aa20b3",
   "metadata": {},
   "outputs": [
    {
     "name": "stdout",
     "output_type": "stream",
     "text": [
      "{\"name\": \"Canada\", \"population\": 37742154, \"languages\": [\"English\", \"French\"], \"president\": null}\n"
     ]
    }
   ],
   "source": [
    "import json\n",
    "languages = [\"English\",\"French\"]\n",
    "country = {\n",
    "    \"name\": \"Canada\",\n",
    "    \"population\": 37742154,\n",
    "    \"languages\": languages,\n",
    "    \"president\": None,\n",
    "}\n",
    "country_string = json.dumps(country)\n",
    "print(country_string)"
   ]
  }
 ],
 "metadata": {
  "kernelspec": {
   "display_name": "Python 3 (ipykernel)",
   "language": "python",
   "name": "python3"
  },
  "language_info": {
   "codemirror_mode": {
    "name": "ipython",
    "version": 3
   },
   "file_extension": ".py",
   "mimetype": "text/x-python",
   "name": "python",
   "nbconvert_exporter": "python",
   "pygments_lexer": "ipython3",
   "version": "3.9.12"
  }
 },
 "nbformat": 4,
 "nbformat_minor": 5
}
